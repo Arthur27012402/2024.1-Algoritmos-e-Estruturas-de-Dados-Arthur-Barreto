{
  "nbformat": 4,
  "nbformat_minor": 0,
  "metadata": {
    "colab": {
      "provenance": [],
      "authorship_tag": "ABX9TyONf7Los9wpxyi52o1THHT8",
      "include_colab_link": true
    },
    "kernelspec": {
      "name": "python3",
      "display_name": "Python 3"
    },
    "language_info": {
      "name": "python"
    }
  },
  "cells": [
    {
      "cell_type": "markdown",
      "metadata": {
        "id": "view-in-github",
        "colab_type": "text"
      },
      "source": [
        "<a href=\"https://colab.research.google.com/github/Arthur27012402/2024.1-Algoritmos-e-Estruturas-de-Dados-Arthur-Barreto/blob/main/atividade06_questao4.ipynb\" target=\"_parent\"><img src=\"https://colab.research.google.com/assets/colab-badge.svg\" alt=\"Open In Colab\"/></a>"
      ]
    },
    {
      "cell_type": "code",
      "execution_count": 2,
      "metadata": {
        "colab": {
          "base_uri": "https://localhost:8080/"
        },
        "id": "CFVHvvE1YX-c",
        "outputId": "52c12607-6827-4db5-922b-90dba6bc6f7d"
      },
      "outputs": [
        {
          "output_type": "stream",
          "name": "stdout",
          "text": [
            "[[6, 8], [10, 12]]\n"
          ]
        }
      ],
      "source": [
        "def soma_matrizes(m1, m2):\n",
        "    # Cria a matriz resultado com a soma dos elementos correspondentes\n",
        "    resultado = [\n",
        "        [m1[i][j] + m2[i][j] for j in range(len(m1[0]))]\n",
        "        for i in range(len(m1))\n",
        "    ]\n",
        "    return resultado\n",
        "\n",
        "# Chama a função e imprime o resultado\n",
        "texto = soma_matrizes([[1, 2], [3, 4]], [[5, 6], [7, 8]])\n",
        "print(texto)\n"
      ]
    }
  ]
}