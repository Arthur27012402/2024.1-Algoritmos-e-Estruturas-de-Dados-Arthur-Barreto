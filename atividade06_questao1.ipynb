{
  "nbformat": 4,
  "nbformat_minor": 0,
  "metadata": {
    "colab": {
      "provenance": [],
      "authorship_tag": "ABX9TyMPB/oJXyY570XjOWFzBnEl",
      "include_colab_link": true
    },
    "kernelspec": {
      "name": "python3",
      "display_name": "Python 3"
    },
    "language_info": {
      "name": "python"
    }
  },
  "cells": [
    {
      "cell_type": "markdown",
      "metadata": {
        "id": "view-in-github",
        "colab_type": "text"
      },
      "source": [
        "<a href=\"https://colab.research.google.com/github/Arthur27012402/2024.1-Algoritmos-e-Estruturas-de-Dados-Arthur-Barreto/blob/main/atividade06_questao1.ipynb\" target=\"_parent\"><img src=\"https://colab.research.google.com/assets/colab-badge.svg\" alt=\"Open In Colab\"/></a>"
      ]
    },
    {
      "cell_type": "code",
      "execution_count": 23,
      "metadata": {
        "colab": {
          "base_uri": "https://localhost:8080/"
        },
        "id": "BcDxMGYUNbx3",
        "outputId": "6e9021fd-f44e-4790-e4cb-a0ba6acf3841"
      },
      "outputs": [
        {
          "output_type": "execute_result",
          "data": {
            "text/plain": [
              "120"
            ]
          },
          "metadata": {},
          "execution_count": 23
        }
      ],
      "source": [
        "#Função de fatorial\n",
        "\n",
        "def fatorial(n):\n",
        "  for i in range(n-1,0,-1): #o intervalo n-1 pois seria n . n-1 , 0 é o fim ou seja '1', -1 é o passo\n",
        "    n *= i\n",
        "  return n\n",
        "\n",
        "fatorial(5)\n"
      ]
    }
  ]
}