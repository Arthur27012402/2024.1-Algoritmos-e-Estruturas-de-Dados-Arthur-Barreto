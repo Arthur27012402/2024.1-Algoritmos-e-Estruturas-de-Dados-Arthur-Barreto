{
  "nbformat": 4,
  "nbformat_minor": 0,
  "metadata": {
    "colab": {
      "provenance": [],
      "authorship_tag": "ABX9TyNAEvciIprsF2y5ihJa4SBV",
      "include_colab_link": true
    },
    "kernelspec": {
      "name": "python3",
      "display_name": "Python 3"
    },
    "language_info": {
      "name": "python"
    }
  },
  "cells": [
    {
      "cell_type": "markdown",
      "metadata": {
        "id": "view-in-github",
        "colab_type": "text"
      },
      "source": [
        "<a href=\"https://colab.research.google.com/github/Arthur27012402/2024.1-Algoritmos-e-Estruturas-de-Dados-Arthur-Barreto/blob/main/01_hello_world.ipynb\" target=\"_parent\"><img src=\"https://colab.research.google.com/assets/colab-badge.svg\" alt=\"Open In Colab\"/></a>"
      ]
    },
    {
      "cell_type": "markdown",
      "source": [
        "Meu primeiro programa"
      ],
      "metadata": {
        "id": "BtiCL42MeDz9"
      }
    },
    {
      "cell_type": "code",
      "execution_count": 2,
      "metadata": {
        "colab": {
          "base_uri": "https://localhost:8080/"
        },
        "id": "omyMp9stcJI6",
        "outputId": "d5e1e06a-621f-40dc-91c4-fa7a617e9e03"
      },
      "outputs": [
        {
          "output_type": "stream",
          "name": "stdout",
          "text": [
            "Hello World\n"
          ]
        }
      ],
      "source": [
        "#Imprime \"Hello, World\" na tela\n",
        "print(\"Hello World\")"
      ]
    },
    {
      "cell_type": "code",
      "source": [
        "#Variáveis em Python\n",
        "messege = \"Hello, World!\" #atribui a string \"Hello, World\" a variável message\n",
        "#Imprimir o conteúdo da variavel message\n",
        "print(messege)"
      ],
      "metadata": {
        "colab": {
          "base_uri": "https://localhost:8080/"
        },
        "id": "b2unarWhogXG",
        "outputId": "4db1691d-2465-4734-9e84-337f19a2af1d"
      },
      "execution_count": 3,
      "outputs": [
        {
          "output_type": "stream",
          "name": "stdout",
          "text": [
            "Hello, World!\n"
          ]
        }
      ]
    }
  ]
}