{
  "nbformat": 4,
  "nbformat_minor": 0,
  "metadata": {
    "colab": {
      "provenance": [],
      "authorship_tag": "ABX9TyNtcQgdlrom15oqWpdn3LCu",
      "include_colab_link": true
    },
    "kernelspec": {
      "name": "python3",
      "display_name": "Python 3"
    },
    "language_info": {
      "name": "python"
    }
  },
  "cells": [
    {
      "cell_type": "markdown",
      "metadata": {
        "id": "view-in-github",
        "colab_type": "text"
      },
      "source": [
        "<a href=\"https://colab.research.google.com/github/Arthur27012402/2024.1-Algoritmos-e-Estruturas-de-Dados-Arthur-Barreto/blob/main/Contador_incremental.ipynb\" target=\"_parent\"><img src=\"https://colab.research.google.com/assets/colab-badge.svg\" alt=\"Open In Colab\"/></a>"
      ]
    },
    {
      "cell_type": "code",
      "execution_count": 18,
      "metadata": {
        "colab": {
          "base_uri": "https://localhost:8080/"
        },
        "id": "oUeDX9NVhFz9",
        "outputId": "b7ce7e3e-4977-4ecf-d1f5-f247ac77d24d"
      },
      "outputs": [
        {
          "output_type": "stream",
          "name": "stdout",
          "text": [
            "Arthur Barreto rthur Barreto thur Barreto hur Barreto ur Barreto r Barreto  Barreto Barreto arreto rreto reto eto to o "
          ]
        }
      ],
      "source": [
        "x = 'Arthur Barreto'\n",
        "while x:\n",
        "  print(x, end=' ')\n",
        "  x = x[1:]\n"
      ]
    },
    {
      "cell_type": "code",
      "source": [
        "x = 10\n",
        "while x:\n",
        "  #print(\"Valor de x: \") #informação de debbuging (depuração)\n",
        "  #print(x)#informação de debbuging (depuração)\n",
        "  #print(\"Resultado divisão\")#informação de debbuging (depuração)\n",
        "  a= (x % 2)\n",
        "  #print(a)#informação de debbuging (depuração)\n",
        "  x-=1\n",
        "  #if x % 2 != 0: #comparação da diferença, quando o resto da\n",
        "                  #divisao, for diferente de 0\n",
        "  #if x % 2 == 1: #comparação da igualdade, se o resto da divisao\n",
        "                 #for igual a 1 -> contador de pares\n",
        "  if x % 2 != 1: #comparação da diferença, quando o resto da\n",
        "                  #divisao, for diferente de 1 -> contador de impares\n",
        "    continue\n",
        "  print(x,end=' ')\n",
        ""
      ],
      "metadata": {
        "colab": {
          "base_uri": "https://localhost:8080/"
        },
        "id": "BGjjVh6ajQQ6",
        "outputId": "d3e2d85e-d4c6-4645-bfd6-316b9b891cdf"
      },
      "execution_count": 16,
      "outputs": [
        {
          "output_type": "stream",
          "name": "stdout",
          "text": [
            "9 7 5 3 1 "
          ]
        }
      ]
    },
    {
      "cell_type": "markdown",
      "source": [
        "Verificador de números primos"
      ],
      "metadata": {
        "id": "dBNJepL5tV4I"
      }
    },
    {
      "cell_type": "code",
      "source": [
        "# O algoritmo verifica se um número Y\n",
        "# é primo ao tentar dividir Y\n",
        "# por todos os números inteiros menores que Y\n",
        "# e maior que 1, imprimindo os fatores de\n",
        "# y ou indicando que\n",
        "# y é primo.\n",
        "y=3\n",
        "x = y // 2\n",
        "while x>1:\n",
        "  if y % x == 0:\n",
        "    print('Composto: ',y, ' tem fator', x)\n",
        "    break\n",
        "  x-=1\n",
        "else:\n",
        "  print(y, \"Número primo\")"
      ],
      "metadata": {
        "colab": {
          "base_uri": "https://localhost:8080/"
        },
        "id": "T_dc93sZtakB",
        "outputId": "267bd273-4e51-43c2-83bb-232d796a8083"
      },
      "execution_count": 19,
      "outputs": [
        {
          "output_type": "stream",
          "name": "stdout",
          "text": [
            "3 Número primo\n"
          ]
        }
      ]
    },
    {
      "cell_type": "markdown",
      "source": [
        "Gerador de números primos\n"
      ],
      "metadata": {
        "id": "XQX2k-2Iukwg"
      }
    },
    {
      "cell_type": "code",
      "source": [
        "\n",
        "# O algoritmo verifica se um número Y\n",
        "# é primo ao tentar dividir Y\n",
        "# por todos os números inteiros menores que Y\n",
        "# e maior que 1, imprimindo os fatores de\n",
        "# y ou indicando que\n",
        "# y é primo.\n",
        "limite = int(input(\"Digite o limite: \"))\n",
        "for y in range(2,limite+1):\n",
        "  x = y // 2\n",
        "  while x>1:\n",
        "    if y % x == 0:\n",
        "      print('Composto: ',y, ' tem fator', x)\n",
        "      break\n",
        "    x-=1\n",
        "  else:\n",
        "    print(y, \"Número primo\")"
      ],
      "metadata": {
        "colab": {
          "base_uri": "https://localhost:8080/"
        },
        "id": "FsINv6ZGule4",
        "outputId": "1cc3a3ca-cff0-4d31-b741-619b074b5d2e"
      },
      "execution_count": 20,
      "outputs": [
        {
          "output_type": "stream",
          "name": "stdout",
          "text": [
            "Digite o limite: 50\n",
            "2 Número primo\n",
            "3 Número primo\n",
            "Composto:  4  tem fator 2\n",
            "5 Número primo\n",
            "Composto:  6  tem fator 3\n",
            "7 Número primo\n",
            "Composto:  8  tem fator 4\n",
            "Composto:  9  tem fator 3\n",
            "Composto:  10  tem fator 5\n",
            "11 Número primo\n",
            "Composto:  12  tem fator 6\n",
            "13 Número primo\n",
            "Composto:  14  tem fator 7\n",
            "Composto:  15  tem fator 5\n",
            "Composto:  16  tem fator 8\n",
            "17 Número primo\n",
            "Composto:  18  tem fator 9\n",
            "19 Número primo\n",
            "Composto:  20  tem fator 10\n",
            "Composto:  21  tem fator 7\n",
            "Composto:  22  tem fator 11\n",
            "23 Número primo\n",
            "Composto:  24  tem fator 12\n",
            "Composto:  25  tem fator 5\n",
            "Composto:  26  tem fator 13\n",
            "Composto:  27  tem fator 9\n",
            "Composto:  28  tem fator 14\n",
            "29 Número primo\n",
            "Composto:  30  tem fator 15\n",
            "31 Número primo\n",
            "Composto:  32  tem fator 16\n",
            "Composto:  33  tem fator 11\n",
            "Composto:  34  tem fator 17\n",
            "Composto:  35  tem fator 7\n",
            "Composto:  36  tem fator 18\n",
            "37 Número primo\n",
            "Composto:  38  tem fator 19\n",
            "Composto:  39  tem fator 13\n",
            "Composto:  40  tem fator 20\n",
            "41 Número primo\n",
            "Composto:  42  tem fator 21\n",
            "43 Número primo\n",
            "Composto:  44  tem fator 22\n",
            "Composto:  45  tem fator 15\n",
            "Composto:  46  tem fator 23\n",
            "47 Número primo\n",
            "Composto:  48  tem fator 24\n",
            "Composto:  49  tem fator 7\n",
            "Composto:  50  tem fator 25\n"
          ]
        }
      ]
    }
  ]
}