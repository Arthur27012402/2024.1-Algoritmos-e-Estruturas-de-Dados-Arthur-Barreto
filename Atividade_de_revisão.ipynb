{
  "nbformat": 4,
  "nbformat_minor": 0,
  "metadata": {
    "colab": {
      "provenance": [],
      "authorship_tag": "ABX9TyM2RNsmg6AGsLtVUcgZxUfx",
      "include_colab_link": true
    },
    "kernelspec": {
      "name": "python3",
      "display_name": "Python 3"
    },
    "language_info": {
      "name": "python"
    }
  },
  "cells": [
    {
      "cell_type": "markdown",
      "metadata": {
        "id": "view-in-github",
        "colab_type": "text"
      },
      "source": [
        "<a href=\"https://colab.research.google.com/github/Arthur27012402/2024.1-Algoritmos-e-Estruturas-de-Dados-Arthur-Barreto/blob/main/Atividade_de_revis%C3%A3o.ipynb\" target=\"_parent\"><img src=\"https://colab.research.google.com/assets/colab-badge.svg\" alt=\"Open In Colab\"/></a>"
      ]
    },
    {
      "cell_type": "markdown",
      "source": [
        "Questão 1"
      ],
      "metadata": {
        "id": "xf-ySxLngFwy"
      }
    },
    {
      "cell_type": "code",
      "execution_count": 14,
      "metadata": {
        "colab": {
          "base_uri": "https://localhost:8080/"
        },
        "id": "7O8yZspBfya8",
        "outputId": "a2ccd289-edb4-4c41-f8c5-35485866bc47"
      },
      "outputs": [
        {
          "output_type": "stream",
          "name": "stdout",
          "text": [
            "heloo world\n"
          ]
        }
      ],
      "source": [
        "print(\"heloo world\")"
      ]
    },
    {
      "cell_type": "markdown",
      "source": [
        "Questão 2"
      ],
      "metadata": {
        "id": "WHqNAK1NgOlZ"
      }
    },
    {
      "cell_type": "code",
      "source": [
        "p1 = float(input(\"Nota da primeira prova: \"))\n",
        "p2 = float(input(\"Nota da segunda prova: \"))\n",
        "p3 = float(input(\"Nota da segunda prova: \"))\n",
        "\n",
        "media = (p1 + p2 + p3)/3\n",
        "print(\"A média das notas é: \", media)"
      ],
      "metadata": {
        "colab": {
          "base_uri": "https://localhost:8080/"
        },
        "id": "1FnW3K1of4oQ",
        "outputId": "0a98199d-226c-4e71-db15-e56ef009cce8"
      },
      "execution_count": 19,
      "outputs": [
        {
          "output_type": "stream",
          "name": "stdout",
          "text": [
            "Nota da primeira prova: 5\n",
            "Nota da segunda prova: 10\n",
            "Nota da segunda prova: 7\n",
            "A média ponderada das notas é:  7.333333333333333\n"
          ]
        }
      ]
    },
    {
      "cell_type": "markdown",
      "source": [
        "Questão 3"
      ],
      "metadata": {
        "id": "j3EZdMmCi8T7"
      }
    },
    {
      "cell_type": "code",
      "source": [
        "print(\"Calculadora de média ponderada do IFRN\")\n",
        "\n",
        "#Perguntando, para quantos alunos, desejo calcular média\n",
        "num_alunos = int(input(\"Digite o número de alunos: \"))\n",
        "\n",
        "for aluno in range(1, num_alunos+1):\n",
        "  #imprima o numero do aluno da vez\n",
        "  print(f\"\\nAluno {aluno}:\")\n",
        "\n",
        "  #Float, tipagem explícita, para garantir número fracionário\n",
        "  n1 = float( input(\"Digite a nota 1(com peso 2): \") )\n",
        "  n2 = float( input(\"Digite a nota 2(com peso 3): \") )\n",
        "\n",
        "  #calculo de media ponderada\n",
        "  media = (n1 * 2 + n2 * 3) / 5\n",
        "\n",
        "  #impressão da média\n",
        "  print(f\"A média ponderada das notas é: {media:.2f}\")\n",
        "\n",
        "  #apresentar se o aluno foi aprovado ou não\n",
        "  if media >= 6:\n",
        "    print(\"Aprovado\")\n",
        "  else:\n",
        "    if n1 >= 4 and n2 >=4:\n",
        "      print(\"Prova final\")\n",
        "    else:\n",
        "      print(\"Reprovado\")"
      ],
      "metadata": {
        "id": "CAfznd-bi91D"
      },
      "execution_count": null,
      "outputs": []
    },
    {
      "cell_type": "markdown",
      "source": [
        "Questão 4"
      ],
      "metadata": {
        "id": "MkDMlnhomiZM"
      }
    },
    {
      "cell_type": "code",
      "source": [
        "\n",
        "    # Solicita ao usuário que insira os três números\n",
        "    numero1 = float(input(\"Digite o primeiro número: \"))\n",
        "    numero2 = float(input(\"Digite o segundo número: \"))\n",
        "    numero3 = float(input(\"Digite o terceiro número: \"))\n",
        "\n",
        "    # Inicializa a variável maior_numero com o primeiro número\n",
        "    maior_numero = numero1\n",
        "\n",
        "    # Compara com o segundo número\n",
        "    if numero2 > maior_numero:\n",
        "        maior_numero = numero2\n",
        "\n",
        "    # Compara com o terceiro número\n",
        "    if numero3 > maior_numero:\n",
        "        maior_numero = numero3\n",
        "\n",
        "    # Imprime o maior número encontrado\n",
        "    print(f\"O maior número é: {maior_numero}\")\n",
        "\n",
        "\n"
      ],
      "metadata": {
        "colab": {
          "base_uri": "https://localhost:8080/"
        },
        "id": "eFs80o1pkmOA",
        "outputId": "900b18db-d093-44da-c39f-6f8516722ddd"
      },
      "execution_count": 21,
      "outputs": [
        {
          "output_type": "stream",
          "name": "stdout",
          "text": [
            "Digite o primeiro número: 5\n",
            "Digite o segundo número: 4\n",
            "Digite o terceiro número: 7\n",
            "O maior número é: 7.0\n"
          ]
        }
      ]
    }
  ]
}