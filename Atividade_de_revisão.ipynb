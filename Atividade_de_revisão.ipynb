{
  "nbformat": 4,
  "nbformat_minor": 0,
  "metadata": {
    "colab": {
      "provenance": [],
      "include_colab_link": true
    },
    "kernelspec": {
      "name": "python3",
      "display_name": "Python 3"
    },
    "language_info": {
      "name": "python"
    }
  },
  "cells": [
    {
      "cell_type": "markdown",
      "metadata": {
        "id": "view-in-github",
        "colab_type": "text"
      },
      "source": [
        "<a href=\"https://colab.research.google.com/github/Arthur27012402/2024.1-Algoritmos-e-Estruturas-de-Dados-Arthur-Barreto/blob/main/Atividade_de_revis%C3%A3o.ipynb\" target=\"_parent\"><img src=\"https://colab.research.google.com/assets/colab-badge.svg\" alt=\"Open In Colab\"/></a>"
      ]
    },
    {
      "cell_type": "markdown",
      "source": [
        "Questão 1"
      ],
      "metadata": {
        "id": "xf-ySxLngFwy"
      }
    },
    {
      "cell_type": "code",
      "execution_count": 4,
      "metadata": {
        "colab": {
          "base_uri": "https://localhost:8080/"
        },
        "id": "7O8yZspBfya8",
        "outputId": "984c7174-6941-4c2e-dd29-800836e7b189"
      },
      "outputs": [
        {
          "output_type": "stream",
          "name": "stdout",
          "text": [
            "olá mundo\n"
          ]
        }
      ],
      "source": [
        "print(\"olá mundo\")"
      ]
    },
    {
      "cell_type": "markdown",
      "source": [
        "Questão 2"
      ],
      "metadata": {
        "id": "WHqNAK1NgOlZ"
      }
    },
    {
      "cell_type": "code",
      "source": [
        "p1 = float(input(\"Nota da primeira prova: \"))\n",
        "p2 = float(input(\"Nota da segunda prova: \"))\n",
        "p3 = float(input(\"Nota da segunda prova: \"))\n",
        "\n",
        "media = (p1 + p2 + p3)/3\n",
        "print(\"A média das notas é: \", media)"
      ],
      "metadata": {
        "colab": {
          "base_uri": "https://localhost:8080/"
        },
        "id": "1FnW3K1of4oQ",
        "outputId": "82a1dd4a-1f39-4b21-fe25-98f8e11f89a5"
      },
      "execution_count": 5,
      "outputs": [
        {
          "output_type": "stream",
          "name": "stdout",
          "text": [
            "Nota da primeira prova: 5\n",
            "Nota da segunda prova: 10\n",
            "Nota da segunda prova: 8\n",
            "A média das notas é:  7.666666666666667\n"
          ]
        }
      ]
    },
    {
      "cell_type": "markdown",
      "source": [
        "Questão 3"
      ],
      "metadata": {
        "id": "j3EZdMmCi8T7"
      }
    },
    {
      "cell_type": "code",
      "source": [
        "print(\"Calculadora de média ponderada do IFRN\")\n",
        "\n",
        "#Perguntando, para quantos alunos, desejo calcular média\n",
        "num_alunos = int(input(\"Digite o número de alunos: \"))\n",
        "\n",
        "for aluno in range(1, num_alunos+1):\n",
        "  #imprima o numero do aluno da vez\n",
        "  print(f\"\\nAluno {aluno}:\")\n",
        "\n",
        "  #Float, tipagem explícita, para garantir número fracionário\n",
        "  n1 = float( input(\"Digite a nota 1(com peso 2): \") )\n",
        "  n2 = float( input(\"Digite a nota 2(com peso 3): \") )\n",
        "\n",
        "  #calculo de media ponderada\n",
        "  media = (n1 * 2 + n2 * 3) / 5\n",
        "\n",
        "  #impressão da média\n",
        "  print(f\"A média ponderada das notas é: {media:.2f}\")\n",
        "\n",
        "  #apresentar se o aluno foi aprovado ou não\n",
        "  if media >= 6:\n",
        "    print(\"Aprovado\")\n",
        "  else:\n",
        "    if n1 >= 4 and n2 >=4:\n",
        "      print(\"Prova final\")\n",
        "    else:\n",
        "      print(\"Reprovado\")"
      ],
      "metadata": {
        "id": "CAfznd-bi91D",
        "outputId": "c2fe4eec-f32a-4477-e67e-0690fc073f77",
        "colab": {
          "base_uri": "https://localhost:8080/"
        }
      },
      "execution_count": 6,
      "outputs": [
        {
          "output_type": "stream",
          "name": "stdout",
          "text": [
            "Calculadora de média ponderada do IFRN\n",
            "Digite o número de alunos: 2\n",
            "\n",
            "Aluno 1:\n",
            "Digite a nota 1(com peso 2): 5\n",
            "Digite a nota 2(com peso 3): 8\n",
            "A média ponderada das notas é: 6.80\n",
            "Aprovado\n",
            "\n",
            "Aluno 2:\n",
            "Digite a nota 1(com peso 2): 7\n",
            "Digite a nota 2(com peso 3): 5\n",
            "A média ponderada das notas é: 5.80\n",
            "Prova final\n"
          ]
        }
      ]
    },
    {
      "cell_type": "markdown",
      "source": [
        "Questão 4"
      ],
      "metadata": {
        "id": "MkDMlnhomiZM"
      }
    },
    {
      "cell_type": "code",
      "source": [
        "\n",
        "    # Solicita ao usuário que insira os três números\n",
        "    numero1 = float(input(\"Digite o primeiro número: \"))\n",
        "    numero2 = float(input(\"Digite o segundo número: \"))\n",
        "    numero3 = float(input(\"Digite o terceiro número: \"))\n",
        "\n",
        "    # Inicializa a variável maior_numero com o primeiro número\n",
        "    maior_numero = numero1\n",
        "\n",
        "    # Compara com o segundo número\n",
        "    if numero2 > maior_numero:\n",
        "        maior_numero = numero2\n",
        "\n",
        "    # Compara com o terceiro número\n",
        "    if numero3 > maior_numero:\n",
        "        maior_numero = numero3\n",
        "\n",
        "    # Imprime o maior número encontrado\n",
        "    print(f\"O maior número é: {maior_numero}\")\n",
        "\n",
        "\n"
      ],
      "metadata": {
        "colab": {
          "base_uri": "https://localhost:8080/"
        },
        "id": "eFs80o1pkmOA",
        "outputId": "76f99096-7397-44d1-d5f5-7b14e2695cc5"
      },
      "execution_count": 7,
      "outputs": [
        {
          "output_type": "stream",
          "name": "stdout",
          "text": [
            "Digite o primeiro número: 1\n",
            "Digite o segundo número: 5\n",
            "Digite o terceiro número: 9\n",
            "O maior número é: 9.0\n"
          ]
        }
      ]
    },
    {
      "cell_type": "markdown",
      "source": [
        "Questão 5"
      ],
      "metadata": {
        "id": "BzcVeFfh2KMm"
      }
    },
    {
      "cell_type": "code",
      "source": [
        "#Programa de controle de qualidade de agua\n",
        "print(\"Insira o nível de cloro da água para verificar se está dentro do padrão aceito.\")\n",
        "paradinha = True\n",
        "\n",
        "while paradinha:\n",
        "  nivel_cloro = float(input(\"Digite o nível de cloro em mg/L: \"))\n",
        "  #verificando se o  0.2 > nivel_cloro < 2\n",
        "  if nivel_cloro < 0.2:\n",
        "    print(\"Atenção: O nível de cloro está abaixo do padrão aceitável\")\n",
        "  elif nivel_cloro > 2.0:\n",
        "    print(\"Atenção: o nível de cloro está acima do padrão aceitável.\")\n",
        "  else:\n",
        "    print(\"O nível do cloro está dentro dos padrões aceitáveis.\")\n",
        "paradinha = False"
      ],
      "metadata": {
        "id": "sk7BR9_z2JvL",
        "outputId": "d04aa591-3ac1-4997-967f-d9bba4caac84",
        "colab": {
          "base_uri": "https://localhost:8080/"
        }
      },
      "execution_count": null,
      "outputs": [
        {
          "output_type": "stream",
          "name": "stdout",
          "text": [
            "Insira o nível de cloro da água para verificar se está dentro do padrão aceito.\n",
            "Digite o nível de cloro em mg/L: 0.9\n",
            "O nível do cloro está dentro dos padrões aceitáveis.\n",
            "Digite o nível de cloro em mg/L: 2.0\n",
            "O nível do cloro está dentro dos padrões aceitáveis.\n",
            "Digite o nível de cloro em mg/L: 5.0\n",
            "Atenção: o nível de cloro está acima do padrão aceitável.\n",
            "Digite o nível de cloro em mg/L: 21\n",
            "Atenção: o nível de cloro está acima do padrão aceitável.\n",
            "Digite o nível de cloro em mg/L: 0.1\n",
            "Atenção: O nível de cloro está abaixo do padrão aceitável\n"
          ]
        }
      ]
    },
    {
      "cell_type": "markdown",
      "source": [
        "Questão 6"
      ],
      "metadata": {
        "id": "JgspPW1R3Aky"
      }
    },
    {
      "cell_type": "code",
      "source": [
        "# Inicializando as variáveis\n",
        "soma = 0\n",
        "numero = 1\n",
        "\n",
        "# Loop while para somar os números de 1 a 100\n",
        "while numero <= 100:\n",
        "    soma += numero\n",
        "    numero += 1\n",
        "\n",
        "# Imprimindo o resultado\n",
        "print(\"A soma dos números de 1 a 100 é:\", soma)\n"
      ],
      "metadata": {
        "id": "ONFPVMKv3B-F"
      },
      "execution_count": null,
      "outputs": []
    },
    {
      "cell_type": "markdown",
      "source": [
        "Questão 7"
      ],
      "metadata": {
        "id": "mqYWXzqG4rC-"
      }
    },
    {
      "cell_type": "code",
      "source": [
        "# Loop for para iterar de 1 a 50\n",
        "for numero in range(1, 51):\n",
        "    # Verificando se o número é ímpar\n",
        "    if numero % 2 != 0:\n",
        "        print(numero)\n"
      ],
      "metadata": {
        "id": "TLDNKILB4swy",
        "outputId": "2f180e5f-2705-4167-fa38-d91cd4c5663f",
        "colab": {
          "base_uri": "https://localhost:8080/"
        }
      },
      "execution_count": 2,
      "outputs": [
        {
          "output_type": "stream",
          "name": "stdout",
          "text": [
            "1\n",
            "3\n",
            "5\n",
            "7\n",
            "9\n",
            "11\n",
            "13\n",
            "15\n",
            "17\n",
            "19\n",
            "21\n",
            "23\n",
            "25\n",
            "27\n",
            "29\n",
            "31\n",
            "33\n",
            "35\n",
            "37\n",
            "39\n",
            "41\n",
            "43\n",
            "45\n",
            "47\n",
            "49\n"
          ]
        }
      ]
    },
    {
      "cell_type": "markdown",
      "source": [
        "Questão 8"
      ],
      "metadata": {
        "id": "3YhXKEYq5SQW"
      }
    },
    {
      "cell_type": "code",
      "source": [
        "#Exemplo de uso de objetos built-in do Python\n",
        "s = 'spam'\n",
        "\n",
        "#tamanho de s\n",
        "print(len(s))\n",
        "\n",
        "#Tipo de classe de\n",
        "print(type(s))\n",
        "\n",
        "#atributos de objeto disponíveis para s\n",
        "print(dir(s))\n",
        "\n",
        "#testando o atributo isnumeric\n",
        "print(s.isnumeric())\n",
        "print(s.isascii())\n",
        "print(s.isdecimal())\n",
        "print(s.isprintable())"
      ],
      "metadata": {
        "id": "aDalZbMH5maD",
        "outputId": "4f4b5e79-f123-42fe-e7c8-8ea8a2c05426",
        "colab": {
          "base_uri": "https://localhost:8080/"
        }
      },
      "execution_count": 3,
      "outputs": [
        {
          "output_type": "stream",
          "name": "stdout",
          "text": [
            "4\n",
            "<class 'str'>\n",
            "['__add__', '__class__', '__contains__', '__delattr__', '__dir__', '__doc__', '__eq__', '__format__', '__ge__', '__getattribute__', '__getitem__', '__getnewargs__', '__gt__', '__hash__', '__init__', '__init_subclass__', '__iter__', '__le__', '__len__', '__lt__', '__mod__', '__mul__', '__ne__', '__new__', '__reduce__', '__reduce_ex__', '__repr__', '__rmod__', '__rmul__', '__setattr__', '__sizeof__', '__str__', '__subclasshook__', 'capitalize', 'casefold', 'center', 'count', 'encode', 'endswith', 'expandtabs', 'find', 'format', 'format_map', 'index', 'isalnum', 'isalpha', 'isascii', 'isdecimal', 'isdigit', 'isidentifier', 'islower', 'isnumeric', 'isprintable', 'isspace', 'istitle', 'isupper', 'join', 'ljust', 'lower', 'lstrip', 'maketrans', 'partition', 'removeprefix', 'removesuffix', 'replace', 'rfind', 'rindex', 'rjust', 'rpartition', 'rsplit', 'rstrip', 'split', 'splitlines', 'startswith', 'strip', 'swapcase', 'title', 'translate', 'upper', 'zfill']\n",
            "False\n",
            "True\n",
            "False\n",
            "True\n"
          ]
        }
      ]
    }
  ]
}