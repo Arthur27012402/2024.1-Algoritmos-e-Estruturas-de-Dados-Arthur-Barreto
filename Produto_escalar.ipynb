{
  "nbformat": 4,
  "nbformat_minor": 0,
  "metadata": {
    "colab": {
      "provenance": [],
      "authorship_tag": "ABX9TyOSquJ8WNNxZyN8kQoomxqa",
      "include_colab_link": true
    },
    "kernelspec": {
      "name": "python3",
      "display_name": "Python 3"
    },
    "language_info": {
      "name": "python"
    }
  },
  "cells": [
    {
      "cell_type": "markdown",
      "metadata": {
        "id": "view-in-github",
        "colab_type": "text"
      },
      "source": [
        "<a href=\"https://colab.research.google.com/github/Arthur27012402/2024.1-Algoritmos-e-Estruturas-de-Dados-Arthur-Barreto/blob/main/Produto_escalar.ipynb\" target=\"_parent\"><img src=\"https://colab.research.google.com/assets/colab-badge.svg\" alt=\"Open In Colab\"/></a>"
      ]
    },
    {
      "cell_type": "code",
      "execution_count": null,
      "metadata": {
        "id": "bMNe6fffoEl3"
      },
      "outputs": [],
      "source": [
        "def produto_escalar(vetor1, vetor2):\n",
        "    # Verifica se os vetores têm o mesmo tamanho\n",
        "    if len(vetor1) != len(vetor2):\n",
        "        raise ValueError(\"Os vetores precisam ter o mesmo tamanho.\")\n",
        "\n",
        "    # Inicializa o resultado do produto escalar como 0\n",
        "    resultado = 0\n",
        "\n",
        "    # Itera sobre os índices dos vetores e soma o produto dos elementos correspondentes\n",
        "    for i in range(len(vetor1)):\n",
        "        resultado += vetor1[i] * vetor2[i]\n",
        "\n",
        "    return resultado\n",
        "\n",
        "# Exemplo de uso\n",
        "vetor1 = [1, 2, 3]\n",
        "vetor2 = [4, 5, 6]\n",
        "\n",
        "resultado = produto_escalar(vetor1, vetor2)\n",
        "print(f\"O produto escalar é: {resultado}\")\n"
      ]
    }
  ]
}