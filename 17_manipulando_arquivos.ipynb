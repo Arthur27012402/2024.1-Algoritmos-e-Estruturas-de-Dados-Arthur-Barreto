{
  "nbformat": 4,
  "nbformat_minor": 0,
  "metadata": {
    "colab": {
      "provenance": [],
      "include_colab_link": true
    },
    "kernelspec": {
      "name": "python3",
      "display_name": "Python 3"
    },
    "language_info": {
      "name": "python"
    }
  },
  "cells": [
    {
      "cell_type": "markdown",
      "metadata": {
        "id": "view-in-github",
        "colab_type": "text"
      },
      "source": [
        "<a href=\"https://colab.research.google.com/github/Arthur27012402/2024.1-Algoritmos-e-Estruturas-de-Dados-Arthur-Barreto/blob/main/17_manipulando_arquivos.ipynb\" target=\"_parent\"><img src=\"https://colab.research.google.com/assets/colab-badge.svg\" alt=\"Open In Colab\"/></a>"
      ]
    },
    {
      "cell_type": "code",
      "execution_count": 11,
      "metadata": {
        "id": "CUFo5J7LckJp"
      },
      "outputs": [],
      "source": [
        "#escreveu em um arquivo\n",
        "arquivo = open('numeros.txt', 'w')\n",
        "for linha in range(1,101):\n",
        "  arquivo.write('%d\\n' % linha)\n",
        "arquivo.close()"
      ]
    },
    {
      "cell_type": "code",
      "source": [
        "#leitura de um arquivo\n",
        "arquivo = open('numeros.txt', 'r')\n",
        "texto = arquivo.read()\n",
        "print(texto)\n",
        "arquivo.close()"
      ],
      "metadata": {
        "colab": {
          "base_uri": "https://localhost:8080/"
        },
        "id": "FOhLr17hdZ01",
        "outputId": "45d393d4-3d1a-4207-a1e4-61d8173539b8"
      },
      "execution_count": 12,
      "outputs": [
        {
          "output_type": "stream",
          "name": "stdout",
          "text": [
            "1\n",
            "2\n",
            "3\n",
            "4\n",
            "5\n",
            "6\n",
            "7\n",
            "8\n",
            "9\n",
            "10\n",
            "11\n",
            "12\n",
            "13\n",
            "14\n",
            "15\n",
            "16\n",
            "17\n",
            "18\n",
            "19\n",
            "20\n",
            "21\n",
            "22\n",
            "23\n",
            "24\n",
            "25\n",
            "26\n",
            "27\n",
            "28\n",
            "29\n",
            "30\n",
            "31\n",
            "32\n",
            "33\n",
            "34\n",
            "35\n",
            "36\n",
            "37\n",
            "38\n",
            "39\n",
            "40\n",
            "41\n",
            "42\n",
            "43\n",
            "44\n",
            "45\n",
            "46\n",
            "47\n",
            "48\n",
            "49\n",
            "50\n",
            "51\n",
            "52\n",
            "53\n",
            "54\n",
            "55\n",
            "56\n",
            "57\n",
            "58\n",
            "59\n",
            "60\n",
            "61\n",
            "62\n",
            "63\n",
            "64\n",
            "65\n",
            "66\n",
            "67\n",
            "68\n",
            "69\n",
            "70\n",
            "71\n",
            "72\n",
            "73\n",
            "74\n",
            "75\n",
            "76\n",
            "77\n",
            "78\n",
            "79\n",
            "80\n",
            "81\n",
            "82\n",
            "83\n",
            "84\n",
            "85\n",
            "86\n",
            "87\n",
            "88\n",
            "89\n",
            "90\n",
            "91\n",
            "92\n",
            "93\n",
            "94\n",
            "95\n",
            "96\n",
            "97\n",
            "98\n",
            "99\n",
            "100\n",
            "\n"
          ]
        }
      ]
    },
    {
      "cell_type": "code",
      "source": [
        "#leitura linha por linha\n",
        "arquivo = open('numeros.txt', 'r')\n",
        "for linha in arquivo.readlines():\n",
        "  print(linha)\n",
        "arquivo.close()"
      ],
      "metadata": {
        "colab": {
          "base_uri": "https://localhost:8080/"
        },
        "id": "xbQryxEVe8MF",
        "outputId": "39c0df63-d4f9-4f53-b742-ceddfd8b9295"
      },
      "execution_count": 13,
      "outputs": [
        {
          "output_type": "stream",
          "name": "stdout",
          "text": [
            "1\n",
            "\n",
            "2\n",
            "\n",
            "3\n",
            "\n",
            "4\n",
            "\n",
            "5\n",
            "\n",
            "6\n",
            "\n",
            "7\n",
            "\n",
            "8\n",
            "\n",
            "9\n",
            "\n",
            "10\n",
            "\n",
            "11\n",
            "\n",
            "12\n",
            "\n",
            "13\n",
            "\n",
            "14\n",
            "\n",
            "15\n",
            "\n",
            "16\n",
            "\n",
            "17\n",
            "\n",
            "18\n",
            "\n",
            "19\n",
            "\n",
            "20\n",
            "\n",
            "21\n",
            "\n",
            "22\n",
            "\n",
            "23\n",
            "\n",
            "24\n",
            "\n",
            "25\n",
            "\n",
            "26\n",
            "\n",
            "27\n",
            "\n",
            "28\n",
            "\n",
            "29\n",
            "\n",
            "30\n",
            "\n",
            "31\n",
            "\n",
            "32\n",
            "\n",
            "33\n",
            "\n",
            "34\n",
            "\n",
            "35\n",
            "\n",
            "36\n",
            "\n",
            "37\n",
            "\n",
            "38\n",
            "\n",
            "39\n",
            "\n",
            "40\n",
            "\n",
            "41\n",
            "\n",
            "42\n",
            "\n",
            "43\n",
            "\n",
            "44\n",
            "\n",
            "45\n",
            "\n",
            "46\n",
            "\n",
            "47\n",
            "\n",
            "48\n",
            "\n",
            "49\n",
            "\n",
            "50\n",
            "\n",
            "51\n",
            "\n",
            "52\n",
            "\n",
            "53\n",
            "\n",
            "54\n",
            "\n",
            "55\n",
            "\n",
            "56\n",
            "\n",
            "57\n",
            "\n",
            "58\n",
            "\n",
            "59\n",
            "\n",
            "60\n",
            "\n",
            "61\n",
            "\n",
            "62\n",
            "\n",
            "63\n",
            "\n",
            "64\n",
            "\n",
            "65\n",
            "\n",
            "66\n",
            "\n",
            "67\n",
            "\n",
            "68\n",
            "\n",
            "69\n",
            "\n",
            "70\n",
            "\n",
            "71\n",
            "\n",
            "72\n",
            "\n",
            "73\n",
            "\n",
            "74\n",
            "\n",
            "75\n",
            "\n",
            "76\n",
            "\n",
            "77\n",
            "\n",
            "78\n",
            "\n",
            "79\n",
            "\n",
            "80\n",
            "\n",
            "81\n",
            "\n",
            "82\n",
            "\n",
            "83\n",
            "\n",
            "84\n",
            "\n",
            "85\n",
            "\n",
            "86\n",
            "\n",
            "87\n",
            "\n",
            "88\n",
            "\n",
            "89\n",
            "\n",
            "90\n",
            "\n",
            "91\n",
            "\n",
            "92\n",
            "\n",
            "93\n",
            "\n",
            "94\n",
            "\n",
            "95\n",
            "\n",
            "96\n",
            "\n",
            "97\n",
            "\n",
            "98\n",
            "\n",
            "99\n",
            "\n",
            "100\n",
            "\n"
          ]
        }
      ]
    },
    {
      "cell_type": "code",
      "source": [
        "#leitura linha por linha\n",
        "arquivo = open('numeros.txt', 'r')\n",
        "for linha in arquivo.readlines():\n",
        "  print(linha.rstrip())\n",
        "arquivo.close()"
      ],
      "metadata": {
        "colab": {
          "base_uri": "https://localhost:8080/"
        },
        "id": "P81ICH1Sfd7R",
        "outputId": "4366f6f1-5e94-4450-be78-b6455d280ed0"
      },
      "execution_count": 14,
      "outputs": [
        {
          "output_type": "stream",
          "name": "stdout",
          "text": [
            "1\n",
            "2\n",
            "3\n",
            "4\n",
            "5\n",
            "6\n",
            "7\n",
            "8\n",
            "9\n",
            "10\n",
            "11\n",
            "12\n",
            "13\n",
            "14\n",
            "15\n",
            "16\n",
            "17\n",
            "18\n",
            "19\n",
            "20\n",
            "21\n",
            "22\n",
            "23\n",
            "24\n",
            "25\n",
            "26\n",
            "27\n",
            "28\n",
            "29\n",
            "30\n",
            "31\n",
            "32\n",
            "33\n",
            "34\n",
            "35\n",
            "36\n",
            "37\n",
            "38\n",
            "39\n",
            "40\n",
            "41\n",
            "42\n",
            "43\n",
            "44\n",
            "45\n",
            "46\n",
            "47\n",
            "48\n",
            "49\n",
            "50\n",
            "51\n",
            "52\n",
            "53\n",
            "54\n",
            "55\n",
            "56\n",
            "57\n",
            "58\n",
            "59\n",
            "60\n",
            "61\n",
            "62\n",
            "63\n",
            "64\n",
            "65\n",
            "66\n",
            "67\n",
            "68\n",
            "69\n",
            "70\n",
            "71\n",
            "72\n",
            "73\n",
            "74\n",
            "75\n",
            "76\n",
            "77\n",
            "78\n",
            "79\n",
            "80\n",
            "81\n",
            "82\n",
            "83\n",
            "84\n",
            "85\n",
            "86\n",
            "87\n",
            "88\n",
            "89\n",
            "90\n",
            "91\n",
            "92\n",
            "93\n",
            "94\n",
            "95\n",
            "96\n",
            "97\n",
            "98\n",
            "99\n",
            "100\n"
          ]
        }
      ]
    },
    {
      "cell_type": "code",
      "source": [
        "#Criptografia de um arquivo\n",
        "def criptografa(msg):\n",
        "  s = \"\"\n",
        "  #Cifra de césar (adaptada)\n",
        "  for i in msg:\n",
        "    s += chr(ord(i)+1536)\n",
        "  return s\n",
        "\n",
        "\n",
        "def descriptografar(msg):\n",
        "  s = \"\"\n",
        "  for i in msg:\n",
        "    s += chr(ord(i)-1536)\n",
        "  return s\n",
        "\n",
        "texto_cripto = criptografa(texto)\n",
        "arquivo_cripto = open('texto_cripto.txt', 'w', encoding = 'utf-8')\n",
        "arquivo_cripto.write(texto_cripto)\n",
        "arquivo_cripto.close()\n"
      ],
      "metadata": {
        "id": "uq43FpSogfIy"
      },
      "execution_count": 15,
      "outputs": []
    },
    {
      "cell_type": "code",
      "source": [
        "#Descriptografar\n",
        "#Criptografia de um arquivo\n",
        "def criptografa(msg):\n",
        "  s = \"\"\n",
        "  #Cifra de césar (adaptada)\n",
        "  for i in msg:\n",
        "    s += chr(ord(i)+1536)\n",
        "  return s\n",
        "\n",
        "\n",
        "def descriptografar(msg):\n",
        "  s = \"\"\n",
        "  for i in msg:\n",
        "    s += chr(ord(i)-1536)\n",
        "  return s\n",
        "\n",
        "\n",
        "arquivo_descripto = open('texto_cripto.txt', 'r', encoding='utf-8')\n",
        "print(arquivo_descripto.read())\n",
        "print(descriptografar(arquivo_descripto.read()))\n",
        "arquivo_descripto.close()"
      ],
      "metadata": {
        "colab": {
          "base_uri": "https://localhost:8080/"
        },
        "id": "z6PG1HJiqH7M",
        "outputId": "09d0f3fe-e269-49b9-98d4-e70935af9d86"
      },
      "execution_count": 16,
      "outputs": [
        {
          "output_type": "stream",
          "name": "stdout",
          "text": [
            "ر؊ز؊س؊ش؊ص؊ض؊ط؊ظ؊ع؊رذ؊رر؊رز؊رس؊رش؊رص؊رض؊رط؊رظ؊رع؊زذ؊زر؊زز؊زس؊زش؊زص؊زض؊زط؊زظ؊زع؊سذ؊سر؊سز؊سس؊سش؊سص؊سض؊سط؊سظ؊سع؊شذ؊شر؊شز؊شس؊شش؊شص؊شض؊شط؊شظ؊شع؊صذ؊صر؊صز؊صس؊صش؊صص؊صض؊صط؊صظ؊صع؊ضذ؊ضر؊ضز؊ضس؊ضش؊ضص؊ضض؊ضط؊ضظ؊ضع؊طذ؊طر؊طز؊طس؊طش؊طص؊طض؊طط؊طظ؊طع؊ظذ؊ظر؊ظز؊ظس؊ظش؊ظص؊ظض؊ظط؊ظظ؊ظع؊عذ؊عر؊عز؊عس؊عش؊عص؊عض؊عط؊عظ؊عع؊رذذ؊\n",
            "\n"
          ]
        }
      ]
    },
    {
      "cell_type": "code",
      "source": [
        "#chamada de comandos de terminal(modo simples)\n",
        "import os\n",
        "print(os.popen('echo Hello World').read())\n",
        "print(os.popen('ls').read())\n",
        "\n"
      ],
      "metadata": {
        "colab": {
          "base_uri": "https://localhost:8080/"
        },
        "id": "jxzUyHS-ucYW",
        "outputId": "955c3a61-17b6-4f29-f14b-1dce29242003"
      },
      "execution_count": 17,
      "outputs": [
        {
          "output_type": "stream",
          "name": "stdout",
          "text": [
            "Hello World\n",
            "\n",
            "numeros.txt\n",
            "run.sh\n",
            "texto_cripto.txt\n",
            "web\n",
            "\n"
          ]
        }
      ]
    },
    {
      "cell_type": "code",
      "source": [
        "import os\n",
        "dir_atual = os.getcwd()\n",
        "print(dir_atual)\n",
        "print(os.listdir())"
      ],
      "metadata": {
        "colab": {
          "base_uri": "https://localhost:8080/"
        },
        "id": "gc9FeDD3wk_p",
        "outputId": "434161af-a983-4074-d3df-663918bd0093"
      },
      "execution_count": 18,
      "outputs": [
        {
          "output_type": "stream",
          "name": "stdout",
          "text": [
            "/datalab\n",
            "['run.sh', 'numeros.txt', 'texto_cripto.txt', 'web']\n"
          ]
        }
      ]
    },
    {
      "cell_type": "code",
      "source": [
        "import os\n",
        "os.chdir('sample_data')\n",
        "print(os.getcwd())\n",
        "print(os.listdir())\n"
      ],
      "metadata": {
        "colab": {
          "base_uri": "https://localhost:8080/"
        },
        "id": "MC5FZKExwqaR",
        "outputId": "b1c6d816-89a5-4284-9964-3354aa187ad3"
      },
      "execution_count": 1,
      "outputs": [
        {
          "output_type": "stream",
          "name": "stdout",
          "text": [
            "/content/sample_data\n",
            "['README.md', 'anscombe.json', 'mnist_train_small.csv', 'california_housing_test.csv', 'mnist_test.csv', 'california_housing_train.csv']\n"
          ]
        }
      ]
    },
    {
      "cell_type": "code",
      "source": [
        "import os\n",
        "\n",
        "# Executa o comando 'echo' no sistema e captura a saída\n",
        "output = os.popen('echo Hello from system').read()\n",
        "\n",
        "# Usa 'print' para mostrar essa saída no console do Python\n",
        "print(\"A saída do comando é:\", output)\n"
      ],
      "metadata": {
        "id": "-DE-ccXBwTi5"
      },
      "execution_count": null,
      "outputs": []
    },
    {
      "cell_type": "code",
      "source": [
        "print(os.getcwd())\n",
        "print(os.path.exists('sample_data'))\n",
        "print(os.path.exists('mnist_test.csv'))"
      ],
      "metadata": {
        "colab": {
          "base_uri": "https://localhost:8080/"
        },
        "id": "brn3R4Q4yq2Y",
        "outputId": "e4c7fb47-4420-42f2-a23f-9be9b06bbb8e"
      },
      "execution_count": 9,
      "outputs": [
        {
          "output_type": "stream",
          "name": "stdout",
          "text": [
            "/content/sample_data\n",
            "False\n",
            "True\n"
          ]
        }
      ]
    },
    {
      "cell_type": "code",
      "source": [
        "#O modulo Sys\n",
        "import sys\n",
        "\n",
        "print(sys.version)\n",
        "print(sys.version_info)\n"
      ],
      "metadata": {
        "colab": {
          "base_uri": "https://localhost:8080/"
        },
        "id": "E5sMrtI58Vvy",
        "outputId": "f13288be-da95-4eab-e3c5-e66ff48b2010"
      },
      "execution_count": 13,
      "outputs": [
        {
          "output_type": "stream",
          "name": "stdout",
          "text": [
            "3.10.12 (main, Jul 29 2024, 16:56:48) [GCC 11.4.0]\n",
            "sys.version_info(major=3, minor=10, micro=12, releaselevel='final', serial=0)\n"
          ]
        }
      ]
    },
    {
      "cell_type": "code",
      "source": [
        "#executar no desktop\n",
        "print('Número de argumentos: %d ' % len(sys.argv))\n",
        "print('Argumentos: ')\n",
        "for arg in sys.argv:\n",
        "  print('##', arg)"
      ],
      "metadata": {
        "colab": {
          "base_uri": "https://localhost:8080/"
        },
        "id": "ss99STma86Hp",
        "outputId": "3c198794-e425-4e3e-b60b-1cce25b498ff"
      },
      "execution_count": 18,
      "outputs": [
        {
          "output_type": "stream",
          "name": "stdout",
          "text": [
            "Número de argumentos: 3 \n",
            "Argumentos: \n",
            "## /usr/local/lib/python3.10/dist-packages/colab_kernel_launcher.py\n",
            "## -f\n",
            "## /root/.local/share/jupyter/runtime/kernel-e4698d35-7f0c-4eec-a91b-6fd6f3f59cd5.json\n"
          ]
        }
      ]
    }
  ]
}