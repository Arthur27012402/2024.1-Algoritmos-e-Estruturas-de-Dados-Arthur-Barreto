{
  "nbformat": 4,
  "nbformat_minor": 0,
  "metadata": {
    "colab": {
      "provenance": [],
      "authorship_tag": "ABX9TyMI+0+0sZj5/qXw510MI9gn",
      "include_colab_link": true
    },
    "kernelspec": {
      "name": "python3",
      "display_name": "Python 3"
    },
    "language_info": {
      "name": "python"
    }
  },
  "cells": [
    {
      "cell_type": "markdown",
      "metadata": {
        "id": "view-in-github",
        "colab_type": "text"
      },
      "source": [
        "<a href=\"https://colab.research.google.com/github/Arthur27012402/2024.1-Algoritmos-e-Estruturas-de-Dados-Arthur-Barreto/blob/main/Soma_de_matrizes.ipynb\" target=\"_parent\"><img src=\"https://colab.research.google.com/assets/colab-badge.svg\" alt=\"Open In Colab\"/></a>"
      ]
    },
    {
      "cell_type": "code",
      "execution_count": null,
      "metadata": {
        "id": "FCNbWB3hqJby"
      },
      "outputs": [],
      "source": [
        "def soma_diagonal(matriz):\n",
        "    # Verifica se a matriz é quadrada\n",
        "    tamanho = len(matriz)\n",
        "    for linha in matriz:\n",
        "        if len(linha) != tamanho:\n",
        "            raise ValueError(\"A matriz precisa ser quadrada.\")\n",
        "\n",
        "    # Inicializa a soma como 0\n",
        "    soma = 0\n",
        "\n",
        "    # Percorre a diagonal principal e soma os elementos\n",
        "    for i in range(tamanho):\n",
        "        soma += matriz[i][i]\n",
        "\n",
        "    return soma\n",
        "\n",
        "# Exemplo de uso\n",
        "matriz = [\n",
        "    [1, 2, 3],\n",
        "    [4, 5, 6],\n",
        "    [7, 8, 9]\n",
        "]\n",
        "\n",
        "resultado = soma_diagonal(matriz)\n",
        "print(f\"A soma da diagonal principal é: {resultado}\")\n"
      ]
    }
  ]
}