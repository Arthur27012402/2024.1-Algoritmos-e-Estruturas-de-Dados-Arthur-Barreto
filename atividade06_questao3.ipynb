{
  "nbformat": 4,
  "nbformat_minor": 0,
  "metadata": {
    "colab": {
      "provenance": [],
      "authorship_tag": "ABX9TyO5E1T5kKAirS4KUHsRh5sF",
      "include_colab_link": true
    },
    "kernelspec": {
      "name": "python3",
      "display_name": "Python 3"
    },
    "language_info": {
      "name": "python"
    }
  },
  "cells": [
    {
      "cell_type": "markdown",
      "metadata": {
        "id": "view-in-github",
        "colab_type": "text"
      },
      "source": [
        "<a href=\"https://colab.research.google.com/github/Arthur27012402/2024.1-Algoritmos-e-Estruturas-de-Dados-Arthur-Barreto/blob/main/atividade06_questao3.ipynb\" target=\"_parent\"><img src=\"https://colab.research.google.com/assets/colab-badge.svg\" alt=\"Open In Colab\"/></a>"
      ]
    },
    {
      "cell_type": "code",
      "execution_count": null,
      "metadata": {
        "colab": {
          "base_uri": "https://localhost:8080/"
        },
        "id": "QA-Km7CSVBz7",
        "outputId": "63528ebe-6a0e-47c1-a089-663ccaef21e8"
      },
      "outputs": [
        {
          "output_type": "stream",
          "name": "stdout",
          "text": [
            "33.8\n"
          ]
        }
      ],
      "source": [
        "#função para Converter de Temperatura\n",
        "def conversor_temperatura():\n",
        "  C = float(input(\"Digite a temperatura em Celsius: \"))\n",
        "  Temperatura_fahrenheit = C * 9/5 + 32\n",
        "  return Temperatura_fahrenheit\n",
        "\n",
        "texto = conversor_temperatura(1)\n",
        "print(texto)"
      ]
    }
  ]
}