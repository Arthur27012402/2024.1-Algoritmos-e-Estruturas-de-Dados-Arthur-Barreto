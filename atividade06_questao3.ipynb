{
  "nbformat": 4,
  "nbformat_minor": 0,
  "metadata": {
    "colab": {
      "provenance": [],
      "authorship_tag": "ABX9TyNAeJw/gHABh6JHW3Omw9xe",
      "include_colab_link": true
    },
    "kernelspec": {
      "name": "python3",
      "display_name": "Python 3"
    },
    "language_info": {
      "name": "python"
    }
  },
  "cells": [
    {
      "cell_type": "markdown",
      "metadata": {
        "id": "view-in-github",
        "colab_type": "text"
      },
      "source": [
        "<a href=\"https://colab.research.google.com/github/Arthur27012402/2024.1-Algoritmos-e-Estruturas-de-Dados-Arthur-Barreto/blob/main/atividade06_questao3.ipynb\" target=\"_parent\"><img src=\"https://colab.research.google.com/assets/colab-badge.svg\" alt=\"Open In Colab\"/></a>"
      ]
    },
    {
      "cell_type": "code",
      "execution_count": 11,
      "metadata": {
        "colab": {
          "base_uri": "https://localhost:8080/"
        },
        "id": "c-MOA5ZK60s2",
        "outputId": "ed622289-aa5b-43b0-e05d-f9466c79b9f3"
      },
      "outputs": [
        {
          "output_type": "stream",
          "name": "stdout",
          "text": [
            "Digite a temperatura em Celsius: 10\n",
            "50.0\n"
          ]
        }
      ],
      "source": [
        "#função para Converter de Temperatura\n",
        "def conversor_temperatura():\n",
        "    Celsius = float(input(\"Digite a temperatura em Celsius: \"))\n",
        "    Temperatura_fahrenheit = Celsius * 9/5 + 32\n",
        "    return Temperatura_fahrenheit\n",
        "\n",
        "resultado = conversor_temperatura()\n",
        "print(resultado)"
      ]
    }
  ]
}