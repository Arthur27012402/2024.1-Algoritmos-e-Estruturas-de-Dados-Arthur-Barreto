{
  "nbformat": 4,
  "nbformat_minor": 0,
  "metadata": {
    "colab": {
      "provenance": [],
      "authorship_tag": "ABX9TyPvmaFmOYjat1Ch3sC0/tBF",
      "include_colab_link": true
    },
    "kernelspec": {
      "name": "python3",
      "display_name": "Python 3"
    },
    "language_info": {
      "name": "python"
    }
  },
  "cells": [
    {
      "cell_type": "markdown",
      "metadata": {
        "id": "view-in-github",
        "colab_type": "text"
      },
      "source": [
        "<a href=\"https://colab.research.google.com/github/Arthur27012402/2024.1-Algoritmos-e-Estruturas-de-Dados-Arthur-Barreto/blob/main/atividade_2.ipynb\" target=\"_parent\"><img src=\"https://colab.research.google.com/assets/colab-badge.svg\" alt=\"Open In Colab\"/></a>"
      ]
    },
    {
      "cell_type": "code",
      "execution_count": 20,
      "metadata": {
        "colab": {
          "base_uri": "https://localhost:8080/"
        },
        "id": "I8ayfwpgZc4I",
        "outputId": "8f4312cb-9c30-419f-c2a1-bda27adc2441"
      },
      "outputs": [
        {
          "output_type": "stream",
          "name": "stdout",
          "text": [
            "Calculadora de média ponderada do IFRN\n",
            "Digite a nota 1(com peso 2): 10\n",
            "Digite a nota 2(com peso 3): 121\n",
            "A média ponderada das notas é: 76.60\n",
            "Aprovado\n"
          ]
        }
      ],
      "source": [
        "print(\"Calculadora de média ponderada do IFRN\")\n",
        "#float , tipagem explícita, para garantir número fracionário\n",
        "n1 = float(input (\"Digite a nota 1(com peso 2): \"))\n",
        "n2 = float(input (\"Digite a nota 2(com peso 3): \"))\n",
        "\n",
        "#calculo da media ponderada\n",
        "media = (n1 * 2 + n2 * 3) / 5\n",
        "\n",
        "#impressão da média\n",
        "print(f\"A média ponderada das notas é: {media:.2f}\" )\n",
        "\n",
        "#apresentar se o aluno foi aprovado ou não\n",
        "if media >= 6:\n",
        " print(\"Aprovado\")\n",
        "else:\n",
        "  if n1 >= 4 and n2 >=4:\n",
        "    print(\"prova final\")\n",
        "  else:\n",
        "    print(\"Reprovado\")\n",
        ""
      ]
    }
  ]
}