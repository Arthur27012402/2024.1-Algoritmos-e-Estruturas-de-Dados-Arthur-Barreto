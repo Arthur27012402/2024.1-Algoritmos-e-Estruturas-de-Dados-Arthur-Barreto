{
  "nbformat": 4,
  "nbformat_minor": 0,
  "metadata": {
    "colab": {
      "provenance": [],
      "authorship_tag": "ABX9TyMrWegavoU0OIZmDwmeNNqD",
      "include_colab_link": true
    },
    "kernelspec": {
      "name": "python3",
      "display_name": "Python 3"
    },
    "language_info": {
      "name": "python"
    }
  },
  "cells": [
    {
      "cell_type": "markdown",
      "metadata": {
        "id": "view-in-github",
        "colab_type": "text"
      },
      "source": [
        "<a href=\"https://colab.research.google.com/github/Arthur27012402/2024.1-Algoritmos-e-Estruturas-de-Dados-Arthur-Barreto/blob/main/Atividade_5_exercicios.ipynb\" target=\"_parent\"><img src=\"https://colab.research.google.com/assets/colab-badge.svg\" alt=\"Open In Colab\"/></a>"
      ]
    },
    {
      "cell_type": "markdown",
      "source": [
        "Questão 1 : Crie um programa que leia um número inteiro. Quando este for negativo,\n",
        "some-o com 100; quando positivo, apenas faça sua impressão."
      ],
      "metadata": {
        "id": "BHrClwJ2CILb"
      }
    },
    {
      "cell_type": "code",
      "execution_count": 13,
      "metadata": {
        "colab": {
          "base_uri": "https://localhost:8080/"
        },
        "id": "WMHtQks7B-7p",
        "outputId": "6497011a-9f82-4153-9e07-68c413f8b077"
      },
      "outputs": [
        {
          "output_type": "stream",
          "name": "stdout",
          "text": [
            "digite seu numero -5000\n",
            "0\n"
          ]
        }
      ],
      "source": [
        "#inserir dados\n",
        "Num = int(input('digite seu numero '))\n",
        "while Num < 0 :\n",
        "    Num += 100\n",
        "if Num >= 0:\n",
        "    print(Num)"
      ]
    },
    {
      "cell_type": "markdown",
      "source": [
        "Questão 2  Crie um programa que leia o código de um curso do IFRN, Campus\n",
        "Natal Central, e indique o nome do curso de acordo com a tabela abaixo. Se o\n",
        "programa ler um código inexistente no Instituto, uma mensagem de alerta deve\n",
        "ser informada ao usuário."
      ],
      "metadata": {
        "id": "gXx9ooPNE46A"
      }
    },
    {
      "cell_type": "code",
      "source": [
        "#inserir codigo\n",
        "Codigo = int(input('digite seu codigo: '))\n",
        "if Codigo == 1 :\n",
        "    print('Técnico em Informática subesequente')\n",
        "elif Codigo == 2 :\n",
        "    print(' Técnico em Informática EJA')\n",
        "elif Codigo == 3 :\n",
        "    print(' Técnico em Cooperativismo')\n",
        "elif Codigo == 4 :\n",
        "    print(' Técnico em Cooperativismo subesequente')\n",
        "elif Codigo == 5 :\n",
        "    print('Licenciatura em Física')\n",
        "else :\n",
        "    print('Código não encontrado')"
      ],
      "metadata": {
        "colab": {
          "base_uri": "https://localhost:8080/"
        },
        "id": "XaLZ9kLDDU9v",
        "outputId": "d967e11b-dd52-4000-e81b-414f6b0f6476"
      },
      "execution_count": 18,
      "outputs": [
        {
          "output_type": "stream",
          "name": "stdout",
          "text": [
            "digite seu codigo: 6\n",
            "Código não encontrado\n"
          ]
        }
      ]
    },
    {
      "cell_type": "markdown",
      "source": [
        "Questão 3. Leia duas strings e informe o conteúdo delas\n",
        "seguido do seu comprimento.\n",
        "3a. Crie uma variável res1 que informa se as duas\n",
        "strings possuem o mesmo comprimento.\n"
      ],
      "metadata": {
        "id": "sJML4z9BE8Tf"
      }
    },
    {
      "cell_type": "code",
      "source": [
        "palavra_1 = input('digite sua primeira palavra: ')\n",
        "palavra_2 = input('digite sua segunda palavra: ')\n",
        "res1 = len(palavra_1) == len(palavra_2)\n",
        "print(res1)"
      ],
      "metadata": {
        "colab": {
          "base_uri": "https://localhost:8080/"
        },
        "id": "_V3F5U-WD6dI",
        "outputId": "1f676487-0d04-43d2-cd28-523c543e4720"
      },
      "execution_count": 21,
      "outputs": [
        {
          "output_type": "stream",
          "name": "stdout",
          "text": [
            "digite sua primeira palavra: asas\n",
            "digite sua segunda palavra: ases\n",
            "True\n"
          ]
        }
      ]
    },
    {
      "cell_type": "markdown",
      "source": [
        "Questão 3b. Crie uma variável res2 que informa se as duasstrings são iguais ou diferentes no conteúdo.\n",
        "Observe o exemplo:"
      ],
      "metadata": {
        "id": "VLm7iDdtF1oO"
      }
    },
    {
      "cell_type": "code",
      "source": [
        "palavra_1 = input('digite sua primeira palavra: ')\n",
        "palavra_2 = input('digite sua segunda palavra: ')\n",
        "res2 = palavra_1 == palavra_2\n",
        "print(res2)"
      ],
      "metadata": {
        "colab": {
          "base_uri": "https://localhost:8080/"
        },
        "id": "Mo3__zAJF7f1",
        "outputId": "1188b103-df04-4c87-ece8-ef3f60b892b8"
      },
      "execution_count": 23,
      "outputs": [
        {
          "output_type": "stream",
          "name": "stdout",
          "text": [
            "digite sua primeira palavra: casa\n",
            "digite sua segunda palavra: casa\n",
            "True\n"
          ]
        }
      ]
    },
    {
      "cell_type": "markdown",
      "source": [
        "Questão 4.Faça um programa que ler uma string e cortaos dois primeiros caracteres e os dois últimos\n",
        "Exemplo:"
      ],
      "metadata": {
        "id": "CrRUmwuOGMHY"
      }
    },
    {
      "cell_type": "code",
      "source": [
        "Sequencia = '0123456789'\n",
        "print(Sequencia[2:-2])"
      ],
      "metadata": {
        "colab": {
          "base_uri": "https://localhost:8080/"
        },
        "id": "QXmshxDQGGvO",
        "outputId": "8f67fbf7-d841-4a6b-d36f-f3112d464f1f"
      },
      "execution_count": 25,
      "outputs": [
        {
          "output_type": "stream",
          "name": "stdout",
          "text": [
            "234567\n"
          ]
        }
      ]
    }
  ]
}