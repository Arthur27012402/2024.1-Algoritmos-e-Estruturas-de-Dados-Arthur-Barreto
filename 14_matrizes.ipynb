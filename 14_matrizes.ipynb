{
  "nbformat": 4,
  "nbformat_minor": 0,
  "metadata": {
    "colab": {
      "provenance": [],
      "authorship_tag": "ABX9TyPOMYcRsFHjxyZYUkUTPje9",
      "include_colab_link": true
    },
    "kernelspec": {
      "name": "python3",
      "display_name": "Python 3"
    },
    "language_info": {
      "name": "python"
    }
  },
  "cells": [
    {
      "cell_type": "markdown",
      "metadata": {
        "id": "view-in-github",
        "colab_type": "text"
      },
      "source": [
        "<a href=\"https://colab.research.google.com/github/Arthur27012402/2024.1-Algoritmos-e-Estruturas-de-Dados-Arthur-Barreto/blob/main/14_matrizes.ipynb\" target=\"_parent\"><img src=\"https://colab.research.google.com/assets/colab-badge.svg\" alt=\"Open In Colab\"/></a>"
      ]
    },
    {
      "cell_type": "code",
      "execution_count": 10,
      "metadata": {
        "colab": {
          "base_uri": "https://localhost:8080/"
        },
        "id": "_COmDn57Xms6",
        "outputId": "031c66d4-da72-4ab5-eb67-30a7300391ea"
      },
      "outputs": [
        {
          "output_type": "stream",
          "name": "stdout",
          "text": [
            "[[1, 1, 1, 1, 1], [1, 1, 1, 1, 1], [1, 1, 1, 1, 1], [1, 1, 1, 1, 1], [1, 1, 1, 1, 1], [1, 1, 1, 1, 1], [1, 1, 1, 1, 1], [1, 1, 1, 1, 1], [1, 1, 1, 1, 1]]\n"
          ]
        }
      ],
      "source": [
        "M = [ [1 for a in range(5)] for f in range(9)]\n",
        "print(M)"
      ]
    },
    {
      "cell_type": "code",
      "source": [
        "#imprimir uma lista alinhada\n",
        "m = [ [1 for i in range(5)] for j in range(5)]\n",
        "print(m)\n",
        "print(len(m))\n",
        "cont = 0\n",
        "for i in range(len(m)):\n",
        "  for j in range(len(m[i])):\n",
        "    cont += 1\n",
        "    m[i][j]= cont\n",
        "print(m)"
      ],
      "metadata": {
        "colab": {
          "base_uri": "https://localhost:8080/"
        },
        "id": "w2xtQjMLjXFi",
        "outputId": "02e3b028-2535-4632-e9d8-3b965e424bf3"
      },
      "execution_count": 12,
      "outputs": [
        {
          "output_type": "stream",
          "name": "stdout",
          "text": [
            "[[1, 1, 1, 1, 1], [1, 1, 1, 1, 1], [1, 1, 1, 1, 1], [1, 1, 1, 1, 1], [1, 1, 1, 1, 1]]\n",
            "5\n",
            "[[1, 2, 3, 4, 5], [6, 7, 8, 9, 10], [11, 12, 13, 14, 15], [16, 17, 18, 19, 20], [21, 22, 23, 24, 25]]\n"
          ]
        }
      ]
    },
    {
      "cell_type": "code",
      "source": [
        "M = [ [1 for i in range(5)] for j in range(5)]\n",
        "for i in range(5):\n",
        "    for j in range(5):\n",
        "        if i == j:\n",
        "            M[i][j] = 0\n",
        "print(M)"
      ],
      "metadata": {
        "id": "FOppic2qbw6v"
      },
      "execution_count": null,
      "outputs": []
    }
  ]
}