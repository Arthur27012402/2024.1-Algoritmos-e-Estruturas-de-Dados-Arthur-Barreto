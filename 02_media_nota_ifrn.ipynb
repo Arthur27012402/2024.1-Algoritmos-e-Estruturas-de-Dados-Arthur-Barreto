{
  "nbformat": 4,
  "nbformat_minor": 0,
  "metadata": {
    "colab": {
      "provenance": [],
      "authorship_tag": "ABX9TyPoxmsvwXkMs6ZVTy6WRsFG",
      "include_colab_link": true
    },
    "kernelspec": {
      "name": "python3",
      "display_name": "Python 3"
    },
    "language_info": {
      "name": "python"
    }
  },
  "cells": [
    {
      "cell_type": "markdown",
      "metadata": {
        "id": "view-in-github",
        "colab_type": "text"
      },
      "source": [
        "<a href=\"https://colab.research.google.com/github/Arthur27012402/2024.1-Algoritmos-e-Estruturas-de-Dados-Arthur-Barreto/blob/main/02_media_nota_ifrn.ipynb\" target=\"_parent\"><img src=\"https://colab.research.google.com/assets/colab-badge.svg\" alt=\"Open In Colab\"/></a>"
      ]
    },
    {
      "cell_type": "markdown",
      "source": [
        "Calculadora de média ponderada IFRN"
      ],
      "metadata": {
        "id": "Xk8IF1xYxXhv"
      }
    },
    {
      "cell_type": "code",
      "execution_count": 14,
      "metadata": {
        "colab": {
          "base_uri": "https://localhost:8080/"
        },
        "id": "d4clS_tAxMbX",
        "outputId": "f2e3d4e5-6cbd-4432-f904-c0a5995d28de"
      },
      "outputs": [
        {
          "output_type": "stream",
          "name": "stdout",
          "text": [
            "Calculadora de média ponderada do IFRN\n",
            "Digite a nota 1(com peso 2): 3.8\n",
            "Digite a nota 2(com peso 3): 6.6\n",
            "A média ponderada das notas é: 5.48\n",
            "A média ponderada das notas é:  5.4799999999999995\n",
            "A média ponderada das notas é: 5.480\n"
          ]
        }
      ],
      "source": [
        "print(\"Calculadora de média ponderada do IFRN\")\n",
        "#float , tipagem explícita, para garantir número fracionário\n",
        "n1 = float(input (\"Digite a nota 1(com peso 2): \"))\n",
        "n2 = float(input (\"Digite a nota 2(com peso 3): \"))\n",
        "\n",
        "#calculo da media ponderada\n",
        "media = (n1 * 2 + n2 * 3) / 5\n",
        "\n",
        "#impressão da média\n",
        "print(f\"A média ponderada das notas é: {media:.2f}\" )\n",
        "\n",
        "#impressão da média sem formatação\n",
        "print(\"A média ponderada das notas é: \", media)\n",
        "\n",
        "#impressão da média\n",
        "print(f\"A média ponderada das notas é: {media:.3f}\" )"
      ]
    }
  ]
}