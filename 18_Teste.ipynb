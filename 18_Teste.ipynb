{
  "nbformat": 4,
  "nbformat_minor": 0,
  "metadata": {
    "colab": {
      "provenance": [],
      "authorship_tag": "ABX9TyML7/0B9V+7zlaSJOt8u5YM",
      "include_colab_link": true
    },
    "kernelspec": {
      "name": "python3",
      "display_name": "Python 3"
    },
    "language_info": {
      "name": "python"
    }
  },
  "cells": [
    {
      "cell_type": "markdown",
      "metadata": {
        "id": "view-in-github",
        "colab_type": "text"
      },
      "source": [
        "<a href=\"https://colab.research.google.com/github/Arthur27012402/2024.1-Algoritmos-e-Estruturas-de-Dados-Arthur-Barreto/blob/main/18_Teste.ipynb\" target=\"_parent\"><img src=\"https://colab.research.google.com/assets/colab-badge.svg\" alt=\"Open In Colab\"/></a>"
      ]
    },
    {
      "cell_type": "code",
      "execution_count": 21,
      "metadata": {
        "id": "B2IfZbEDmzvF",
        "colab": {
          "base_uri": "https://localhost:8080/"
        },
        "outputId": "85324250-1542-42b7-89fe-6c8f53328dba"
      },
      "outputs": [
        {
          "output_type": "stream",
          "name": "stdout",
          "text": [
            "Drive already mounted at /content/drive; to attempt to forcibly remount, call drive.mount(\"/content/drive\", force_remount=True).\n",
            "O caminho fornecido foi: /content/drive/MyDrive/Colab Notebooks/2024.1 Algoritimo/18_TDD.ipynb\n",
            "[NbConvertApp] Converting notebook /content/drive/MyDrive/Colab Notebooks/2024.1 Algoritimo/18_TDD.ipynb to script\n",
            "[NbConvertApp] Writing 424 bytes to /content/drive/MyDrive/Colab Notebooks/2024.1 Algoritimo/18_TDD.txt\n"
          ]
        }
      ],
      "source": [
        "from google.colab import drive\n",
        "import os\n",
        "import importlib.util\n",
        "import unittest\n",
        "\n",
        "drive.mount('/content/drive')\n",
        "\n",
        "#navegar pro diretorio de destino\n",
        "os.chdir('/content/drive/MyDrive/Colab Notebooks/2024.1 Algoritimo')\n",
        "\n",
        "# Perguntar ao usuário o caminho do arquivo no Google Drive\n",
        "caminho = \"/content/drive/MyDrive/Colab Notebooks/2024.1 Algoritimo/18_TDD.ipynb\"\n",
        "# Google Drive (ex: '/content/drive/MyDrive/Colab Notebooks/20241_alg_est/18_tdd.ipynb'):\n",
        "\n",
        "# Exibir o caminho fornecido pelo usuário\n",
        "print(f\"O caminho fornecido foi: {caminho}\")\n",
        "\n",
        "# Converter o notebook para um script Python\n",
        "!jupyter nbconvert --to script \"{caminho}\"\n",
        "\n",
        "# Substituir a extensão '.ipynb' por '.py' para localizar o arquivo convertido\n",
        "caminho_py = caminho.replace('.ipynb', '.py')\n",
        "\n",
        "# Caso o arquivo tenha sido gerado como '.txt', renomeie para '.py'\n",
        "if os.path.exists(caminho_py.replace('.py', '.txt')):\n",
        "    os.rename(caminho_py.replace('.py', '.txt'), caminho_py)\n",
        "\n",
        "# Importar o script Python gerado\n",
        "spec = importlib.util.spec_from_file_location(\"tdd_module\", caminho_py)\n",
        "tdd_module = importlib.util.module_from_spec(spec)\n",
        "spec.loader.exec_module(tdd_module)"
      ]
    },
    {
      "cell_type": "code",
      "source": [
        "# Definir os testes\n",
        "class TestFuncoesAleatorias(unittest.TestCase):\n",
        "\n",
        "    def test_gerar_lista_aleatoria(self):\n",
        "        lista = tdd_module.gerar_lista_aleatoria()\n",
        "        self.assertEqual(len(lista), 28)\n",
        "        for num in lista:\n",
        "            self.assertTrue(1 <= num <= 100)\n",
        "\n",
        "    def test_gerar_lista_aleatoria_distintos(self):\n",
        "        lista = tdd_module.gerar_lista_aleatoria_distintos()\n",
        "        self.assertEqual(len(lista), 28)\n",
        "        self.assertEqual(len(set(lista)), 28)  # Verifica se todos os elementos são únicos\n",
        "        for num in lista:\n",
        "            self.assertTrue(1 <= num <= 100)\n",
        "\n",
        "    def test_embaralhar_lista(self):\n",
        "        lista_original = [i for i in range(1, 29)]\n",
        "        lista_embaralhada = tdd_module.embaralhar_lista(lista_original.copy())\n",
        "\n",
        "        self.assertEqual(len(lista_embaralhada), 28)\n",
        "        self.assertCountEqual(lista_original, lista_embaralhada)  # Verifica se contém os mesmos elementos\n",
        "        self.assertNotEqual(lista_original, lista_embaralhada)  # Verifica se a ordem é diferente\n",
        "\n",
        "# Executar os testes\n",
        "if __name__ == '__main__':\n",
        "    unittest.main(argv=[''], verbosity=2, exit=False)\n"
      ],
      "metadata": {
        "colab": {
          "base_uri": "https://localhost:8080/"
        },
        "id": "2CQAYkpNwceY",
        "outputId": "c16e6ffa-d3e9-43a8-ebbc-3f432861de4a"
      },
      "execution_count": 22,
      "outputs": [
        {
          "output_type": "stream",
          "name": "stderr",
          "text": [
            "test_embaralhar_lista (__main__.TestFuncoesAleatorias) ... ERROR\n",
            "test_gerar_lista_aleatoria (__main__.TestFuncoesAleatorias) ... ERROR\n",
            "test_gerar_lista_aleatoria_distintos (__main__.TestFuncoesAleatorias) ... ERROR\n",
            "\n",
            "======================================================================\n",
            "ERROR: test_embaralhar_lista (__main__.TestFuncoesAleatorias)\n",
            "----------------------------------------------------------------------\n",
            "Traceback (most recent call last):\n",
            "  File \"<ipython-input-22-8704326cf49b>\", line 19, in test_embaralhar_lista\n",
            "    lista_embaralhada = tdd_module.embaralhar_lista(lista_original.copy())\n",
            "TypeError: embaralhar_lista() takes 0 positional arguments but 1 was given\n",
            "\n",
            "======================================================================\n",
            "ERROR: test_gerar_lista_aleatoria (__main__.TestFuncoesAleatorias)\n",
            "----------------------------------------------------------------------\n",
            "Traceback (most recent call last):\n",
            "  File \"<ipython-input-22-8704326cf49b>\", line 6, in test_gerar_lista_aleatoria\n",
            "    self.assertEqual(len(lista), 28)\n",
            "TypeError: object of type 'NoneType' has no len()\n",
            "\n",
            "======================================================================\n",
            "ERROR: test_gerar_lista_aleatoria_distintos (__main__.TestFuncoesAleatorias)\n",
            "----------------------------------------------------------------------\n",
            "Traceback (most recent call last):\n",
            "  File \"<ipython-input-22-8704326cf49b>\", line 11, in test_gerar_lista_aleatoria_distintos\n",
            "    lista = tdd_module.gerar_lista_aleatoria_distintos()\n",
            "AttributeError: module 'tdd_module' has no attribute 'gerar_lista_aleatoria_distintos'\n",
            "\n",
            "----------------------------------------------------------------------\n",
            "Ran 3 tests in 0.016s\n",
            "\n",
            "FAILED (errors=3)\n"
          ]
        }
      ]
    }
  ]
}