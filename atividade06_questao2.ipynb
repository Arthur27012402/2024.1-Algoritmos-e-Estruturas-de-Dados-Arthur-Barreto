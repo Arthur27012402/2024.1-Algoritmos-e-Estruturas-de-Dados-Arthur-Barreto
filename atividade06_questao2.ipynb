{
  "nbformat": 4,
  "nbformat_minor": 0,
  "metadata": {
    "colab": {
      "provenance": [],
      "authorship_tag": "ABX9TyOottWSZyyolwRsNdnPpnRg",
      "include_colab_link": true
    },
    "kernelspec": {
      "name": "python3",
      "display_name": "Python 3"
    },
    "language_info": {
      "name": "python"
    }
  },
  "cells": [
    {
      "cell_type": "markdown",
      "metadata": {
        "id": "view-in-github",
        "colab_type": "text"
      },
      "source": [
        "<a href=\"https://colab.research.google.com/github/Arthur27012402/2024.1-Algoritmos-e-Estruturas-de-Dados-Arthur-Barreto/blob/main/atividade06_questao2.ipynb\" target=\"_parent\"><img src=\"https://colab.research.google.com/assets/colab-badge.svg\" alt=\"Open In Colab\"/></a>"
      ]
    },
    {
      "cell_type": "code",
      "execution_count": 12,
      "metadata": {
        "colab": {
          "base_uri": "https://localhost:8080/"
        },
        "id": "XsBU86CeS6_V",
        "outputId": "959f0f2a-3edc-4f57-e7c4-0cf0db683dad"
      },
      "outputs": [
        {
          "output_type": "stream",
          "name": "stdout",
          "text": [
            "28\n"
          ]
        }
      ],
      "source": [
        "#função para somar elementos pares\n",
        "def soma_pares(vetor):\n",
        "    soma = 0\n",
        "    for num in vetor:\n",
        "        if num % 2 == 0:\n",
        "            soma += num\n",
        "    return soma\n",
        "\n",
        "#resultado = soma_pares(range(1, 11))\n",
        "#print(resultado)\n",
        "resultado = soma_pares([4,5,6,7,8,9,10])\n",
        "print(resultado)"
      ]
    }
  ]
}