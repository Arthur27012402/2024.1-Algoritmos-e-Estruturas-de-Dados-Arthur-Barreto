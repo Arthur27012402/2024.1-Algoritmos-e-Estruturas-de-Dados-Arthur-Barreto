{
  "nbformat": 4,
  "nbformat_minor": 0,
  "metadata": {
    "colab": {
      "provenance": [],
      "authorship_tag": "ABX9TyPD/yLFrs8bGz1CVIK8bh7V",
      "include_colab_link": true
    },
    "kernelspec": {
      "name": "python3",
      "display_name": "Python 3"
    },
    "language_info": {
      "name": "python"
    }
  },
  "cells": [
    {
      "cell_type": "markdown",
      "metadata": {
        "id": "view-in-github",
        "colab_type": "text"
      },
      "source": [
        "<a href=\"https://colab.research.google.com/github/Arthur27012402/2024.1-Algoritmos-e-Estruturas-de-Dados-Arthur-Barreto/blob/main/Atividade_03_10_Quest%C3%B5es.ipynb\" target=\"_parent\"><img src=\"https://colab.research.google.com/assets/colab-badge.svg\" alt=\"Open In Colab\"/></a>"
      ]
    },
    {
      "cell_type": "markdown",
      "source": [
        "Calculadora de IMC (Índice de Massa Corporal):"
      ],
      "metadata": {
        "id": "jhypefVoCiLb"
      }
    },
    {
      "cell_type": "code",
      "execution_count": 7,
      "metadata": {
        "colab": {
          "base_uri": "https://localhost:8080/"
        },
        "id": "ujnE77oKB5U4",
        "outputId": "6cf43890-e53e-464d-cfd2-a82580edfbc3"
      },
      "outputs": [
        {
          "output_type": "stream",
          "name": "stdout",
          "text": [
            "Digite seu peso em kg: 62.9\n",
            "Digite sua altura em metros: 1.69\n",
            "Seu IMC é 22.02, o que indica: Peso normal\n"
          ]
        }
      ],
      "source": [
        "# Solicitando peso e altura do usuário\n",
        "peso = float(input(\"Digite seu peso em kg: \"))\n",
        "altura = float(input(\"Digite sua altura em metros: \"))\n",
        "\n",
        "# Calculando o IMC\n",
        "imc = peso / (altura ** 2)\n",
        "\n",
        "# Classificando o IMC\n",
        "classificacao = \"\"\n",
        "if imc < 18.5:\n",
        "    classificacao = \"Baixo peso\"\n",
        "elif imc < 24.9:\n",
        "    classificacao = \"Peso normal\"\n",
        "elif imc < 29.9:\n",
        "    classificacao = \"Sobrepeso\"\n",
        "else:\n",
        "    classificacao = \"Obesidade\"\n",
        "\n",
        "# Exibindo o resultado\n",
        "print(f\"Seu IMC é {imc:.2f}, o que indica: {classificacao}\")\n"
      ]
    },
    {
      "cell_type": "markdown",
      "source": [
        "Verificador de Número Par ou Ímpar:"
      ],
      "metadata": {
        "id": "TQGXOfhtD0Nf"
      }
    },
    {
      "cell_type": "code",
      "source": [
        "# Solicitando um número inteiro ao usuário\n",
        "numero = int(input(\"Digite um número inteiro: \"))\n",
        "\n",
        "# Verificando se o número é par ou ímpar\n",
        "if numero % 2 == 0:\n",
        "    print(f\"O número {numero} é par.\")\n",
        "else:\n",
        "    print(f\"O número {numero} é ímpar.\")\n"
      ],
      "metadata": {
        "id": "_gf8X4mpD4MS"
      },
      "execution_count": null,
      "outputs": []
    },
    {
      "cell_type": "markdown",
      "source": [
        "Conversor de Temperatura:"
      ],
      "metadata": {
        "id": "2ONkONZHEEUr"
      }
    },
    {
      "cell_type": "code",
      "source": [
        "# Solicitando a temperatura em Celsius ao usuário\n",
        "temp_celsius = float(input(\"Digite a temperatura em graus Celsius: \"))\n",
        "\n",
        "# Convertendo a temperatura para Fahrenheit\n",
        "temp_fahrenheit = temp_celsius * 9/5 + 32\n",
        "\n",
        "# Exibindo o resultado da conversão\n",
        "print(f\"A temperatura {temp_celsius}°C equivale a {temp_fahrenheit}°F\")\n"
      ],
      "metadata": {
        "id": "fXTXCAbeEH-K"
      },
      "execution_count": null,
      "outputs": []
    },
    {
      "cell_type": "markdown",
      "source": [
        " Tabuada de Multiplicação:\n"
      ],
      "metadata": {
        "id": "oow9LOEeEUWo"
      }
    },
    {
      "cell_type": "code",
      "source": [
        "# Solicitando um número ao usuário\n",
        "numero = int(input(\"Digite um número para ver sua tabuada de multiplicação: \"))\n",
        "\n",
        "# Exibindo a tabuada de multiplicação\n",
        "print(f\"Tabuada de multiplicação do número {numero}:\")\n",
        "for i in range(1, 11):\n",
        "    resultado = numero * i\n",
        "    print(f\"{numero} x {i} = {resultado}\")\n"
      ],
      "metadata": {
        "id": "mvXx-JUjElfg"
      },
      "execution_count": null,
      "outputs": []
    },
    {
      "cell_type": "markdown",
      "source": [
        "Cálculo de Média Ponderada:"
      ],
      "metadata": {
        "id": "72qUifOlEvXH"
      }
    },
    {
      "cell_type": "code",
      "source": [
        "# Solicitando as notas e pesos ao usuário\n",
        "nota1 = float(input(\"Digite a primeira nota: \"))\n",
        "peso1 = float(input(\"Digite o peso da primeira nota: \"))\n",
        "\n",
        "nota2 = float(input(\"Digite a segunda nota: \"))\n",
        "peso2 = float(input(\"Digite o peso da segunda nota: \"))\n",
        "\n",
        "nota3 = float(input(\"Digite a terceira nota: \"))\n",
        "peso3 = float(input(\"Digite o peso da terceira nota: \"))\n",
        "\n",
        "# Calculando a média ponderada\n",
        "soma_pesos = peso1 + peso2 + peso3\n",
        "media_ponderada = (nota1 * peso1 + nota2 * peso2 + nota3 * peso3) / soma_pesos\n",
        "\n",
        "# Exibindo o resultado da média ponderada\n",
        "print(f\"A média ponderada das notas é {media_ponderada:.2f}\")\n"
      ],
      "metadata": {
        "id": "MZe5OWicEyii"
      },
      "execution_count": null,
      "outputs": []
    },
    {
      "cell_type": "markdown",
      "source": [
        "6. Verificador de Ano Bissexto:"
      ],
      "metadata": {
        "id": "vfyD9cPUE8ij"
      }
    },
    {
      "cell_type": "code",
      "source": [
        "# Solicitando um ano ao usuário\n",
        "ano = int(input(\"Digite um ano para verificar se é bissexto: \"))\n",
        "\n",
        "# Verificando se o ano é bissexto\n",
        "if (ano % 4 == 0 and ano % 100 != 0) or (ano % 400 == 0):\n",
        "    print(f\"O ano {ano} é bissexto.\")\n",
        "else:\n",
        "    print(f\"O ano {ano} não é bissexto.\")\n"
      ],
      "metadata": {
        "id": "NZ1abO3AFAnW"
      },
      "execution_count": null,
      "outputs": []
    },
    {
      "cell_type": "markdown",
      "source": [
        "7. Contador de Vogais em uma String:\n"
      ],
      "metadata": {
        "id": "1JlJAvnZFOH0"
      }
    },
    {
      "cell_type": "code",
      "source": [
        "# Solicitando uma string ao usuário\n",
        "string = input(\"Digite uma string para contar as vogais: \")\n",
        "\n",
        "# Inicializando o contador de vogais\n",
        "num_vogais = 0\n",
        "\n",
        "# Percorrendo cada caractere da string e contando as vogais\n",
        "for char in string:\n",
        "    # Convertendo o caractere para minúsculo para facilitar a comparação\n",
        "    char = char.lower()\n",
        "    # Verificando se o caractere é uma vogal\n",
        "    if char in 'aeiou':\n",
        "        num_vogais += 1\n",
        "\n",
        "# Exibindo o número de vogais na string\n",
        "print(f\"A string possui {num_vogais} vogais.\")\n"
      ],
      "metadata": {
        "id": "gwrWSFd2FRyc"
      },
      "execution_count": null,
      "outputs": []
    },
    {
      "cell_type": "markdown",
      "source": [
        "8. Calculadora de Fatorial:\n"
      ],
      "metadata": {
        "id": "u6mZrIjdFYX9"
      }
    },
    {
      "cell_type": "code",
      "source": [
        "# Solicitando um número inteiro positivo ao usuário\n",
        "num = int(input(\"Digite um número inteiro positivo para calcular o fatorial: \"))\n",
        "\n",
        "# Verificando se o número é positivo\n",
        "if num < 0:\n",
        "    print(\"Número inválido. O número deve ser positivo.\")\n",
        "else:\n",
        "    # Inicializando o fatorial como 1\n",
        "    fatorial = 1\n",
        "    # Calculando o fatorial usando um loop\n",
        "    for i in range(1, num + 1):\n",
        "        fatorial *= i\n",
        "\n",
        "    # Exibindo o resultado do fatorial\n",
        "    print(f\"O fatorial de {num} é {fatorial}\")\n"
      ],
      "metadata": {
        "id": "4yX9vyjwFbCM"
      },
      "execution_count": null,
      "outputs": []
    },
    {
      "cell_type": "markdown",
      "source": [
        "9. Soma dos Números Pares em um Intervalo:"
      ],
      "metadata": {
        "id": "_OHG_TivFjav"
      }
    },
    {
      "cell_type": "code",
      "source": [
        "# Solicitando os números que representam o intervalo ao usuário\n",
        "inicio = int(input(\"Digite o número inicial do intervalo: \"))\n",
        "fim = int(input(\"Digite o número final do intervalo: \"))\n",
        "\n",
        "# Inicializando a variável de soma dos números pares\n",
        "soma_pares = 0\n",
        "\n",
        "# Verificando se o número inicial é menor que o número final\n",
        "if inicio > fim:\n",
        "    print(\"Intervalo inválido. O número inicial deve ser menor que o número final.\")\n",
        "else:\n",
        "    # Calculando a soma dos números pares dentro do intervalo\n",
        "    for num in range(inicio, fim + 1):\n",
        "        if num % 2 == 0:  # Verifica se o número é par\n",
        "            soma_pares += num\n",
        "\n",
        "    # Exibindo a soma dos números pares\n",
        "    print(f\"A soma dos números pares dentro do intervalo [{inicio}, {fim}] é {soma_pares}\")\n"
      ],
      "metadata": {
        "id": "X4r2B_KOFpdU"
      },
      "execution_count": null,
      "outputs": []
    },
    {
      "cell_type": "markdown",
      "source": [
        "10. Verificador de Número Primo:"
      ],
      "metadata": {
        "id": "GNXf4-AcFufe"
      }
    },
    {
      "cell_type": "code",
      "source": [
        "# Solicitando um número inteiro positivo ao usuário\n",
        "num = int(input(\"Digite um número inteiro positivo: \"))\n",
        "\n",
        "# Verificando se o número é positivo e maior que 1\n",
        "if num > 1:\n",
        "    # Verificando se o número é primo\n",
        "    primo = True\n",
        "    for i in range(2, num):\n",
        "        if (num % i) == 0:\n",
        "            primo = False  # O número não é primo\n",
        "            break\n",
        "\n",
        "    # Exibindo a mensagem correspondente\n",
        "    if primo:\n",
        "        print(f\"O número {num} é primo.\")\n",
        "    else:\n",
        "        print(f\"O número {num} não é primo.\")\n",
        "else:\n",
        "    print(\"Número inválido. O número deve ser positivo e maior que 1.\")\n"
      ],
      "metadata": {
        "id": "0nUl2kPJFyMh"
      },
      "execution_count": null,
      "outputs": []
    }
  ]
}