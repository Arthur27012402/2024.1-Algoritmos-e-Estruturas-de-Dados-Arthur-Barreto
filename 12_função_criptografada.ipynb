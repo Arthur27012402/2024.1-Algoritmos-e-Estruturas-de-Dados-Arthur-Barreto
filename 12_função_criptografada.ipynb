{
  "nbformat": 4,
  "nbformat_minor": 0,
  "metadata": {
    "colab": {
      "provenance": [],
      "authorship_tag": "ABX9TyNPIiJg41RhAhrJwwPElklt",
      "include_colab_link": true
    },
    "kernelspec": {
      "name": "python3",
      "display_name": "Python 3"
    },
    "language_info": {
      "name": "python"
    }
  },
  "cells": [
    {
      "cell_type": "markdown",
      "metadata": {
        "id": "view-in-github",
        "colab_type": "text"
      },
      "source": [
        "<a href=\"https://colab.research.google.com/github/Arthur27012402/2024.1-Algoritmos-e-Estruturas-de-Dados-Arthur-Barreto/blob/main/12_fun%C3%A7%C3%A3o_criptografada.ipynb\" target=\"_parent\"><img src=\"https://colab.research.google.com/assets/colab-badge.svg\" alt=\"Open In Colab\"/></a>"
      ]
    },
    {
      "cell_type": "code",
      "execution_count": 11,
      "metadata": {
        "colab": {
          "base_uri": "https://localhost:8080/"
        },
        "id": "UClmNhdVX8qG",
        "outputId": "f17d5514-f305-4425-d4ec-67ce034e84d9"
      },
      "outputs": [
        {
          "output_type": "stream",
          "name": "stdout",
          "text": [
            "digite a mensagem para criptografar: temos uma mensagem\n",
            "mensagem criptografada:  w\n",
            "mensagem descriptografada:  t\n"
          ]
        }
      ],
      "source": [
        "#Criptografia\n",
        "def criptografa(msg):\n",
        "  s= ''\n",
        "  #cifra de cesar\n",
        "  for i in msg:\n",
        "    s += chr(ord(i)+3)\n",
        "  return s\n",
        "def descriptografar(msg):\n",
        "  s = ''\n",
        "  for i in msg:\n",
        "    s += chr(ord(i)-3)\n",
        "  return s\n",
        "\n",
        "\n",
        "mensagem = input('digite a mensagem para criptografar: ')\n",
        "mensagem_criptografada = criptografa(mensagem)\n",
        "print('mensagem criptografada: ', mensagem_criptografada)\n",
        "\n",
        "mensagem_descriptografada = descriptografar(mensagem_criptografada)\n",
        "print('mensagem descriptografada: ', mensagem_descriptografada)"
      ]
    }
  ]
}