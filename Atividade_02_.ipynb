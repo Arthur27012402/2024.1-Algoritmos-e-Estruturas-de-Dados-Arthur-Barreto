{
  "cells": [
    {
      "cell_type": "markdown",
      "metadata": {
        "id": "view-in-github",
        "colab_type": "text"
      },
      "source": [
        "<a href=\"https://colab.research.google.com/github/Arthur27012402/2024.1-Algoritmos-e-Estruturas-de-Dados-Arthur-Barreto/blob/main/Atividade_02_.ipynb\" target=\"_parent\"><img src=\"https://colab.research.google.com/assets/colab-badge.svg\" alt=\"Open In Colab\"/></a>"
      ]
    },
    {
      "cell_type": "code",
      "execution_count": 66,
      "metadata": {
        "colab": {
          "base_uri": "https://localhost:8080/"
        },
        "id": "r34bxKDuhkTd",
        "outputId": "12a8ae85-d74f-4102-a0fe-4be4faa030ac"
      },
      "outputs": [
        {
          "output_type": "stream",
          "name": "stdout",
          "text": [
            "Calculadora de média ponderada do IFRN\n",
            "Digite o número de alunos: 2\n",
            "\n",
            "Aluno 1:\n",
            "Digite a nota 1: 12\n",
            "Nota inválida! A nota deve estar entre 0 e 10.\n",
            "Digite a nota 1: 10\n",
            "Digite a nota 2: 2\n",
            "Digite o peso da nota 1: 5\n",
            "Digite o peso da nota 2: 5\n",
            "A média ponderada das notas é: 6.00\n",
            "Aprovado\n",
            "\n",
            "Aluno 2:\n",
            "Digite a nota 1: 4\n",
            "Digite a nota 2: 3\n",
            "Digite o peso da nota 1: 8\n",
            "Digite o peso da nota 2: 2\n",
            "A média ponderada das notas é: 3.80\n",
            "Reprovado\n"
          ]
        }
      ],
      "source": [
        "print(\"Calculadora de média ponderada do IFRN\")\n",
        "\n",
        "# Perguntando para quantos alunos desejo calcular média\n",
        "num_alunos = int(input(\"Digite o número de alunos: \"))\n",
        "\n",
        "for aluno in range(1, num_alunos + 1):\n",
        "    # Imprimindo o número do aluno da vez\n",
        "    print(f\"\\nAluno {aluno}:\")\n",
        "\n",
        "    # Loop para garantir entrada válida para nota 1\n",
        "    while True:\n",
        "        n1 = float(input(\"Digite a nota 1: \"))\n",
        "        if 0 <= n1 <= 10:\n",
        "            break  # Sai do loop se a nota estiver no intervalo válido\n",
        "        else:\n",
        "            print(\"Nota inválida! A nota deve estar entre 0 e 10.\")\n",
        "\n",
        "    # Loop para garantir entrada válida para nota 2\n",
        "    while True:\n",
        "        n2 = float(input(\"Digite a nota 2: \"))\n",
        "        if 0 <= n2 <= 10:\n",
        "            break  # Sai do loop se a nota estiver no intervalo válido\n",
        "        else:\n",
        "            print(\"Nota inválida! A nota deve estar entre 0 e 10.\")\n",
        "\n",
        "    p1 = int(input(\"Digite o peso da nota 1: \"))\n",
        "    p2 = int(input(\"Digite o peso da nota 2: \"))\n",
        "\n",
        "    # Cálculo de média ponderada\n",
        "    media = (n1 * p1 + n2 * p2) / (p1 + p2)\n",
        "\n",
        "    # Impressão da média\n",
        "    print(f\"A média ponderada das notas é: {media:.2f}\")\n",
        "\n",
        "    # Apresentando se o aluno foi aprovado ou não\n",
        "    if media >= 6:\n",
        "        print(\"Aprovado\")\n",
        "    else:\n",
        "        if n1 >= 4 and n2 >= 4:\n",
        "            print(\"Prova final\")\n",
        "        else:\n",
        "            print(\"Reprovado\")\n"
      ]
    }
  ],
  "metadata": {
    "colab": {
      "provenance": [],
      "authorship_tag": "ABX9TyO4WHA6vgfpsPDzUAch+JBL",
      "include_colab_link": true
    },
    "kernelspec": {
      "display_name": "Python 3",
      "name": "python3"
    },
    "language_info": {
      "name": "python"
    }
  },
  "nbformat": 4,
  "nbformat_minor": 0
}